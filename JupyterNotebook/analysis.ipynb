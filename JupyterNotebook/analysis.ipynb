{
 "cells": [
  {
   "cell_type": "code",
   "execution_count": 271,
   "metadata": {},
   "outputs": [],
   "source": [
    "import pandas as pd\n",
    "import matplotlib.pyplot as plt\n",
    "import numpy as np\n",
    "import seaborn as sns\n",
    "import datetime as dt\n"
   ]
  },
  {
   "cell_type": "code",
   "execution_count": 272,
   "metadata": {},
   "outputs": [
    {
     "data": {
      "text/html": [
       "<div>\n",
       "<style scoped>\n",
       "    .dataframe tbody tr th:only-of-type {\n",
       "        vertical-align: middle;\n",
       "    }\n",
       "\n",
       "    .dataframe tbody tr th {\n",
       "        vertical-align: top;\n",
       "    }\n",
       "\n",
       "    .dataframe thead th {\n",
       "        text-align: right;\n",
       "    }\n",
       "</style>\n",
       "<table border=\"1\" class=\"dataframe\">\n",
       "  <thead>\n",
       "    <tr style=\"text-align: right;\">\n",
       "      <th></th>\n",
       "      <th>id</th>\n",
       "      <th>tracking_number</th>\n",
       "      <th>created_date</th>\n",
       "      <th>in_transit_date</th>\n",
       "      <th>country</th>\n",
       "      <th>zip_code</th>\n",
       "      <th>courier</th>\n",
       "      <th>delivery_region</th>\n",
       "      <th>delivery_cancelled</th>\n",
       "      <th>return_tracking</th>\n",
       "      <th>delivery_location</th>\n",
       "      <th>delivery_date</th>\n",
       "      <th>pickup_date</th>\n",
       "    </tr>\n",
       "  </thead>\n",
       "  <tbody>\n",
       "    <tr>\n",
       "      <th>0</th>\n",
       "      <td>5f4de15806d7504b37050f96</td>\n",
       "      <td>01475110779922</td>\n",
       "      <td>2020-09-01</td>\n",
       "      <td>2020-09-02 13:19:00</td>\n",
       "      <td>GBR</td>\n",
       "      <td>RG64HX</td>\n",
       "      <td>dpd-de</td>\n",
       "      <td>GB-ENG</td>\n",
       "      <td>f</td>\n",
       "      <td>f</td>\n",
       "      <td>HomeDeposit</td>\n",
       "      <td>2020-09-04 07:18:00</td>\n",
       "      <td>2020-09-02 00:00:00</td>\n",
       "    </tr>\n",
       "    <tr>\n",
       "      <th>1</th>\n",
       "      <td>5f4de158194b8a626b3dfa92</td>\n",
       "      <td>01475110779858</td>\n",
       "      <td>2020-09-01</td>\n",
       "      <td>2020-09-01 14:54:00</td>\n",
       "      <td>DEU</td>\n",
       "      <td>70563</td>\n",
       "      <td>dpd-de</td>\n",
       "      <td>DE-BW</td>\n",
       "      <td>f</td>\n",
       "      <td>f</td>\n",
       "      <td>Unknown</td>\n",
       "      <td>2020-09-02 09:15:00</td>\n",
       "      <td>2020-09-01 00:00:00</td>\n",
       "    </tr>\n",
       "    <tr>\n",
       "      <th>2</th>\n",
       "      <td>5f4de158194b8a626b3dfa96</td>\n",
       "      <td>01475110779891</td>\n",
       "      <td>2020-09-01</td>\n",
       "      <td>2020-09-01 14:46:00</td>\n",
       "      <td>GBR</td>\n",
       "      <td>RG287FD</td>\n",
       "      <td>dpd-de</td>\n",
       "      <td>GB-ENG</td>\n",
       "      <td>f</td>\n",
       "      <td>f</td>\n",
       "      <td>Unknown</td>\n",
       "      <td>2020-09-04 11:16:00</td>\n",
       "      <td>2020-09-01 00:00:00</td>\n",
       "    </tr>\n",
       "    <tr>\n",
       "      <th>3</th>\n",
       "      <td>5f4de158194b8a626b3dfa9a</td>\n",
       "      <td>01475110779890</td>\n",
       "      <td>2020-09-01</td>\n",
       "      <td>2020-09-01 14:53:00</td>\n",
       "      <td>ITA</td>\n",
       "      <td>46100</td>\n",
       "      <td>dpd-de</td>\n",
       "      <td>IT-25</td>\n",
       "      <td>f</td>\n",
       "      <td>f</td>\n",
       "      <td>Unknown</td>\n",
       "      <td>2020-09-04 13:09:00</td>\n",
       "      <td>2020-09-01 00:00:00</td>\n",
       "    </tr>\n",
       "    <tr>\n",
       "      <th>4</th>\n",
       "      <td>5f4de1582995144b61ea96a6</td>\n",
       "      <td>01475110779860</td>\n",
       "      <td>2020-09-01</td>\n",
       "      <td>2020-09-02 13:02:00</td>\n",
       "      <td>ESP</td>\n",
       "      <td>07817</td>\n",
       "      <td>dpd-de</td>\n",
       "      <td>ES-IB</td>\n",
       "      <td>f</td>\n",
       "      <td>f</td>\n",
       "      <td>Unknown</td>\n",
       "      <td>2020-09-08 17:10:00</td>\n",
       "      <td>2020-09-02 00:00:00</td>\n",
       "    </tr>\n",
       "  </tbody>\n",
       "</table>\n",
       "</div>"
      ],
      "text/plain": [
       "                         id tracking_number created_date      in_transit_date  \\\n",
       "0  5f4de15806d7504b37050f96  01475110779922   2020-09-01  2020-09-02 13:19:00   \n",
       "1  5f4de158194b8a626b3dfa92  01475110779858   2020-09-01  2020-09-01 14:54:00   \n",
       "2  5f4de158194b8a626b3dfa96  01475110779891   2020-09-01  2020-09-01 14:46:00   \n",
       "3  5f4de158194b8a626b3dfa9a  01475110779890   2020-09-01  2020-09-01 14:53:00   \n",
       "4  5f4de1582995144b61ea96a6  01475110779860   2020-09-01  2020-09-02 13:02:00   \n",
       "\n",
       "  country zip_code courier delivery_region delivery_cancelled return_tracking  \\\n",
       "0     GBR   RG64HX  dpd-de          GB-ENG                  f               f   \n",
       "1     DEU    70563  dpd-de           DE-BW                  f               f   \n",
       "2     GBR  RG287FD  dpd-de          GB-ENG                  f               f   \n",
       "3     ITA    46100  dpd-de           IT-25                  f               f   \n",
       "4     ESP    07817  dpd-de           ES-IB                  f               f   \n",
       "\n",
       "  delivery_location        delivery_date          pickup_date  \n",
       "0       HomeDeposit  2020-09-04 07:18:00  2020-09-02 00:00:00  \n",
       "1           Unknown  2020-09-02 09:15:00  2020-09-01 00:00:00  \n",
       "2           Unknown  2020-09-04 11:16:00  2020-09-01 00:00:00  \n",
       "3           Unknown  2020-09-04 13:09:00  2020-09-01 00:00:00  \n",
       "4           Unknown  2020-09-08 17:10:00  2020-09-02 00:00:00  "
      ]
     },
     "execution_count": 272,
     "metadata": {},
     "output_type": "execute_result"
    }
   ],
   "source": [
    "data = pd.read_csv('delivery_tracking.csv')\n",
    "data.head()"
   ]
  },
  {
   "cell_type": "code",
   "execution_count": 273,
   "metadata": {},
   "outputs": [
    {
     "name": "stdout",
     "output_type": "stream",
     "text": [
      "<class 'pandas.core.frame.DataFrame'>\n",
      "RangeIndex: 10000 entries, 0 to 9999\n",
      "Data columns (total 13 columns):\n",
      " #   Column              Non-Null Count  Dtype \n",
      "---  ------              --------------  ----- \n",
      " 0   id                  10000 non-null  object\n",
      " 1   tracking_number     10000 non-null  object\n",
      " 2   created_date        10000 non-null  object\n",
      " 3   in_transit_date     10000 non-null  object\n",
      " 4   country             9999 non-null   object\n",
      " 5   zip_code            9999 non-null   object\n",
      " 6   courier             10000 non-null  object\n",
      " 7   delivery_region     9999 non-null   object\n",
      " 8   delivery_cancelled  10000 non-null  object\n",
      " 9   return_tracking     10000 non-null  object\n",
      " 10  delivery_location   10000 non-null  object\n",
      " 11  delivery_date       10000 non-null  object\n",
      " 12  pickup_date         10000 non-null  object\n",
      "dtypes: object(13)\n",
      "memory usage: 1015.8+ KB\n"
     ]
    }
   ],
   "source": [
    "data.info()"
   ]
  },
  {
   "cell_type": "code",
   "execution_count": 274,
   "metadata": {},
   "outputs": [
    {
     "name": "stdout",
     "output_type": "stream",
     "text": [
      "<class 'pandas.core.frame.DataFrame'>\n",
      "RangeIndex: 10000 entries, 0 to 9999\n",
      "Data columns (total 13 columns):\n",
      " #   Column              Non-Null Count  Dtype         \n",
      "---  ------              --------------  -----         \n",
      " 0   id                  10000 non-null  object        \n",
      " 1   tracking_number     10000 non-null  object        \n",
      " 2   created_date        10000 non-null  datetime64[ns]\n",
      " 3   in_transit_date     10000 non-null  datetime64[ns]\n",
      " 4   country             9999 non-null   object        \n",
      " 5   zip_code            9999 non-null   object        \n",
      " 6   courier             10000 non-null  object        \n",
      " 7   delivery_region     9999 non-null   object        \n",
      " 8   delivery_cancelled  10000 non-null  object        \n",
      " 9   return_tracking     10000 non-null  object        \n",
      " 10  delivery_location   10000 non-null  object        \n",
      " 11  delivery_date       10000 non-null  datetime64[ns]\n",
      " 12  pickup_date         10000 non-null  datetime64[ns]\n",
      "dtypes: datetime64[ns](4), object(9)\n",
      "memory usage: 1015.8+ KB\n"
     ]
    }
   ],
   "source": [
    "data['created_date'] = pd.to_datetime(data['created_date'])\n",
    "data['delivery_date'] = pd.to_datetime(data['delivery_date'])\n",
    "data['pickup_date'] = pd.to_datetime(data['pickup_date'])\n",
    "data['in_transit_date'] = pd.to_datetime(data['in_transit_date'])\n",
    "data.info()"
   ]
  },
  {
   "cell_type": "code",
   "execution_count": 275,
   "metadata": {},
   "outputs": [],
   "source": [
    "##Creating the epoch version of each date so that it can be used for regression"
   ]
  },
  {
   "cell_type": "code",
   "execution_count": 276,
   "metadata": {},
   "outputs": [],
   "source": [
    "data['Epoch_transit_date'] = data['in_transit_date'].astype(str)\n",
    "data['Epoch_transit_date'] = pd.to_datetime(data['Epoch_transit_date']).values.astype(np.int64) // 10 ** 6\n",
    "\n",
    "data['Epoch_created_date'] = data['created_date'].astype(str)\n",
    "data['Epoch_created_date'] = pd.to_datetime(data['Epoch_created_date']).values.astype(np.int64) // 10 ** 6\n",
    "\n",
    "data['Epoch_delivery_date'] = data['delivery_date'].astype(str)\n",
    "data['Epoch_delivery_date'] = pd.to_datetime(data['Epoch_delivery_date']).values.astype(np.int64) // 10 ** 6\n",
    "\n",
    "data['Epoch_pickup_date'] = data['pickup_date'].astype(str)\n",
    "data['Epoch_pickup_date'] = pd.to_datetime(data['Epoch_pickup_date']).values.astype(np.int64) // 10 ** 6"
   ]
  },
  {
   "cell_type": "code",
   "execution_count": 277,
   "metadata": {},
   "outputs": [
    {
     "data": {
      "text/html": [
       "<div>\n",
       "<style scoped>\n",
       "    .dataframe tbody tr th:only-of-type {\n",
       "        vertical-align: middle;\n",
       "    }\n",
       "\n",
       "    .dataframe tbody tr th {\n",
       "        vertical-align: top;\n",
       "    }\n",
       "\n",
       "    .dataframe thead th {\n",
       "        text-align: right;\n",
       "    }\n",
       "</style>\n",
       "<table border=\"1\" class=\"dataframe\">\n",
       "  <thead>\n",
       "    <tr style=\"text-align: right;\">\n",
       "      <th></th>\n",
       "      <th>id</th>\n",
       "      <th>tracking_number</th>\n",
       "      <th>created_date</th>\n",
       "      <th>in_transit_date</th>\n",
       "      <th>country</th>\n",
       "      <th>zip_code</th>\n",
       "      <th>courier</th>\n",
       "      <th>delivery_region</th>\n",
       "      <th>delivery_cancelled</th>\n",
       "      <th>return_tracking</th>\n",
       "      <th>delivery_location</th>\n",
       "      <th>delivery_date</th>\n",
       "      <th>pickup_date</th>\n",
       "      <th>Epoch_transit_date</th>\n",
       "      <th>Epoch_created_date</th>\n",
       "      <th>Epoch_delivery_date</th>\n",
       "      <th>Epoch_pickup_date</th>\n",
       "    </tr>\n",
       "  </thead>\n",
       "  <tbody>\n",
       "    <tr>\n",
       "      <th>0</th>\n",
       "      <td>5f4de15806d7504b37050f96</td>\n",
       "      <td>01475110779922</td>\n",
       "      <td>2020-09-01</td>\n",
       "      <td>2020-09-02 13:19:00</td>\n",
       "      <td>GBR</td>\n",
       "      <td>RG64HX</td>\n",
       "      <td>dpd-de</td>\n",
       "      <td>GB-ENG</td>\n",
       "      <td>f</td>\n",
       "      <td>f</td>\n",
       "      <td>HomeDeposit</td>\n",
       "      <td>2020-09-04 07:18:00</td>\n",
       "      <td>2020-09-02</td>\n",
       "      <td>1599052740000</td>\n",
       "      <td>1598918400000</td>\n",
       "      <td>1599203880000</td>\n",
       "      <td>1599004800000</td>\n",
       "    </tr>\n",
       "    <tr>\n",
       "      <th>1</th>\n",
       "      <td>5f4de158194b8a626b3dfa92</td>\n",
       "      <td>01475110779858</td>\n",
       "      <td>2020-09-01</td>\n",
       "      <td>2020-09-01 14:54:00</td>\n",
       "      <td>DEU</td>\n",
       "      <td>70563</td>\n",
       "      <td>dpd-de</td>\n",
       "      <td>DE-BW</td>\n",
       "      <td>f</td>\n",
       "      <td>f</td>\n",
       "      <td>Unknown</td>\n",
       "      <td>2020-09-02 09:15:00</td>\n",
       "      <td>2020-09-01</td>\n",
       "      <td>1598972040000</td>\n",
       "      <td>1598918400000</td>\n",
       "      <td>1599038100000</td>\n",
       "      <td>1598918400000</td>\n",
       "    </tr>\n",
       "    <tr>\n",
       "      <th>2</th>\n",
       "      <td>5f4de158194b8a626b3dfa96</td>\n",
       "      <td>01475110779891</td>\n",
       "      <td>2020-09-01</td>\n",
       "      <td>2020-09-01 14:46:00</td>\n",
       "      <td>GBR</td>\n",
       "      <td>RG287FD</td>\n",
       "      <td>dpd-de</td>\n",
       "      <td>GB-ENG</td>\n",
       "      <td>f</td>\n",
       "      <td>f</td>\n",
       "      <td>Unknown</td>\n",
       "      <td>2020-09-04 11:16:00</td>\n",
       "      <td>2020-09-01</td>\n",
       "      <td>1598971560000</td>\n",
       "      <td>1598918400000</td>\n",
       "      <td>1599218160000</td>\n",
       "      <td>1598918400000</td>\n",
       "    </tr>\n",
       "    <tr>\n",
       "      <th>3</th>\n",
       "      <td>5f4de158194b8a626b3dfa9a</td>\n",
       "      <td>01475110779890</td>\n",
       "      <td>2020-09-01</td>\n",
       "      <td>2020-09-01 14:53:00</td>\n",
       "      <td>ITA</td>\n",
       "      <td>46100</td>\n",
       "      <td>dpd-de</td>\n",
       "      <td>IT-25</td>\n",
       "      <td>f</td>\n",
       "      <td>f</td>\n",
       "      <td>Unknown</td>\n",
       "      <td>2020-09-04 13:09:00</td>\n",
       "      <td>2020-09-01</td>\n",
       "      <td>1598971980000</td>\n",
       "      <td>1598918400000</td>\n",
       "      <td>1599224940000</td>\n",
       "      <td>1598918400000</td>\n",
       "    </tr>\n",
       "    <tr>\n",
       "      <th>4</th>\n",
       "      <td>5f4de1582995144b61ea96a6</td>\n",
       "      <td>01475110779860</td>\n",
       "      <td>2020-09-01</td>\n",
       "      <td>2020-09-02 13:02:00</td>\n",
       "      <td>ESP</td>\n",
       "      <td>07817</td>\n",
       "      <td>dpd-de</td>\n",
       "      <td>ES-IB</td>\n",
       "      <td>f</td>\n",
       "      <td>f</td>\n",
       "      <td>Unknown</td>\n",
       "      <td>2020-09-08 17:10:00</td>\n",
       "      <td>2020-09-02</td>\n",
       "      <td>1599051720000</td>\n",
       "      <td>1598918400000</td>\n",
       "      <td>1599585000000</td>\n",
       "      <td>1599004800000</td>\n",
       "    </tr>\n",
       "  </tbody>\n",
       "</table>\n",
       "</div>"
      ],
      "text/plain": [
       "                         id tracking_number created_date     in_transit_date  \\\n",
       "0  5f4de15806d7504b37050f96  01475110779922   2020-09-01 2020-09-02 13:19:00   \n",
       "1  5f4de158194b8a626b3dfa92  01475110779858   2020-09-01 2020-09-01 14:54:00   \n",
       "2  5f4de158194b8a626b3dfa96  01475110779891   2020-09-01 2020-09-01 14:46:00   \n",
       "3  5f4de158194b8a626b3dfa9a  01475110779890   2020-09-01 2020-09-01 14:53:00   \n",
       "4  5f4de1582995144b61ea96a6  01475110779860   2020-09-01 2020-09-02 13:02:00   \n",
       "\n",
       "  country zip_code courier delivery_region delivery_cancelled return_tracking  \\\n",
       "0     GBR   RG64HX  dpd-de          GB-ENG                  f               f   \n",
       "1     DEU    70563  dpd-de           DE-BW                  f               f   \n",
       "2     GBR  RG287FD  dpd-de          GB-ENG                  f               f   \n",
       "3     ITA    46100  dpd-de           IT-25                  f               f   \n",
       "4     ESP    07817  dpd-de           ES-IB                  f               f   \n",
       "\n",
       "  delivery_location       delivery_date pickup_date  Epoch_transit_date  \\\n",
       "0       HomeDeposit 2020-09-04 07:18:00  2020-09-02       1599052740000   \n",
       "1           Unknown 2020-09-02 09:15:00  2020-09-01       1598972040000   \n",
       "2           Unknown 2020-09-04 11:16:00  2020-09-01       1598971560000   \n",
       "3           Unknown 2020-09-04 13:09:00  2020-09-01       1598971980000   \n",
       "4           Unknown 2020-09-08 17:10:00  2020-09-02       1599051720000   \n",
       "\n",
       "   Epoch_created_date  Epoch_delivery_date  Epoch_pickup_date  \n",
       "0       1598918400000        1599203880000      1599004800000  \n",
       "1       1598918400000        1599038100000      1598918400000  \n",
       "2       1598918400000        1599218160000      1598918400000  \n",
       "3       1598918400000        1599224940000      1598918400000  \n",
       "4       1598918400000        1599585000000      1599004800000  "
      ]
     },
     "execution_count": 277,
     "metadata": {},
     "output_type": "execute_result"
    }
   ],
   "source": [
    "data.head()"
   ]
  },
  {
   "cell_type": "code",
   "execution_count": 278,
   "metadata": {},
   "outputs": [
    {
     "name": "stdout",
     "output_type": "stream",
     "text": [
      "<class 'pandas.core.frame.DataFrame'>\n",
      "RangeIndex: 10000 entries, 0 to 9999\n",
      "Data columns (total 17 columns):\n",
      " #   Column               Non-Null Count  Dtype         \n",
      "---  ------               --------------  -----         \n",
      " 0   id                   10000 non-null  object        \n",
      " 1   tracking_number      10000 non-null  object        \n",
      " 2   created_date         10000 non-null  datetime64[ns]\n",
      " 3   in_transit_date      10000 non-null  datetime64[ns]\n",
      " 4   country              9999 non-null   object        \n",
      " 5   zip_code             9999 non-null   object        \n",
      " 6   courier              10000 non-null  object        \n",
      " 7   delivery_region      9999 non-null   object        \n",
      " 8   delivery_cancelled   10000 non-null  object        \n",
      " 9   return_tracking      10000 non-null  object        \n",
      " 10  delivery_location    10000 non-null  object        \n",
      " 11  delivery_date        10000 non-null  datetime64[ns]\n",
      " 12  pickup_date          10000 non-null  datetime64[ns]\n",
      " 13  Epoch_transit_date   10000 non-null  int64         \n",
      " 14  Epoch_created_date   10000 non-null  int64         \n",
      " 15  Epoch_delivery_date  10000 non-null  int64         \n",
      " 16  Epoch_pickup_date    10000 non-null  int64         \n",
      "dtypes: datetime64[ns](4), int64(4), object(9)\n",
      "memory usage: 1.3+ MB\n"
     ]
    }
   ],
   "source": [
    "data.info()"
   ]
  },
  {
   "cell_type": "code",
   "execution_count": 280,
   "metadata": {},
   "outputs": [
    {
     "name": "stdout",
     "output_type": "stream",
     "text": [
      "(10000, 17)\n"
     ]
    },
    {
     "data": {
      "text/plain": [
       "id                     0\n",
       "tracking_number        0\n",
       "created_date           0\n",
       "in_transit_date        0\n",
       "country                1\n",
       "zip_code               1\n",
       "courier                0\n",
       "delivery_region        1\n",
       "delivery_cancelled     0\n",
       "return_tracking        0\n",
       "delivery_location      0\n",
       "delivery_date          0\n",
       "pickup_date            0\n",
       "Epoch_transit_date     0\n",
       "Epoch_created_date     0\n",
       "Epoch_delivery_date    0\n",
       "Epoch_pickup_date      0\n",
       "dtype: int64"
      ]
     },
     "execution_count": 280,
     "metadata": {},
     "output_type": "execute_result"
    }
   ],
   "source": [
    "print(data.shape)\n",
    "data.isnull().sum()"
   ]
  },
  {
   "cell_type": "code",
   "execution_count": 281,
   "metadata": {},
   "outputs": [
    {
     "data": {
      "text/plain": [
       "(9998, 17)"
      ]
     },
     "execution_count": 281,
     "metadata": {},
     "output_type": "execute_result"
    }
   ],
   "source": [
    "data.dropna(inplace=True)\n",
    "data.shape"
   ]
  },
  {
   "cell_type": "code",
   "execution_count": 282,
   "metadata": {},
   "outputs": [
    {
     "data": {
      "text/plain": [
       "array(['GBR', 'DEU', 'ITA', 'ESP', 'AUT', 'IRL', 'FRA', 'SWE', 'NLD',\n",
       "       'PRT', 'BEL', 'DNK', 'FIN', 'USA', 'CHE', 'KOR', 'LUX', 'CAN',\n",
       "       'CZE', 'SVN', 'BGR', 'SAU', 'EST', 'GLP', 'AUS', 'HUN', 'POL',\n",
       "       'SVK'], dtype=object)"
      ]
     },
     "execution_count": 282,
     "metadata": {},
     "output_type": "execute_result"
    }
   ],
   "source": [
    "data[\"country\"].unique()"
   ]
  },
  {
   "cell_type": "code",
   "execution_count": 283,
   "metadata": {},
   "outputs": [
    {
     "data": {
      "text/plain": [
       "array(['GB-ENG', 'DE-BW', 'IT-25', 'ES-IB', 'DE-NW', 'ES-MD', 'AT-4',\n",
       "       'DE-BB', 'DE-BY', 'ES-CT', 'DE-NI', 'IT-34', 'IE', 'DE-RP',\n",
       "       'DE-TH', 'ES-VC', 'DE-SN', 'FR-V', 'SE', 'DE-SH', 'DE-HE', 'FR-T',\n",
       "       'FR-R', 'NL-FR', 'DE-BE', 'PT', 'FR-F', 'FR-S', 'ES-AN', 'DE-ST',\n",
       "       'FR-P', 'BE-VLG', 'DK', 'AT-6', 'NL-FL', 'DE-MV', 'FR-J', 'BE-WAL',\n",
       "       'IT-72', 'DE-HH', 'AT-3', 'FR-N', 'GB-SCT', 'DE-SL', 'FR-I',\n",
       "       'NL-UT', 'FI', 'FR-M', 'FR-U', 'US', 'CH-TG', 'FR-Q', 'FR-K',\n",
       "       'FR-H', 'FR-G', 'AT-9', 'KR', 'AT-7', 'DE-HB', 'NL-ZH', 'FR-A',\n",
       "       'FR-E', 'ES-PV', 'AT-5', 'ES-NC', 'NL-LI', 'NL-GE', 'GB', 'IT-82',\n",
       "       'AT-2', 'NL-ZE', 'LU', 'CA', 'ES-GA', 'GB-PA', 'ES-EX', 'NL-NH',\n",
       "       'NL-OV', 'BE-BRU', 'FR-O', 'FR-B', 'ES-CN', 'CZ', 'FR-D', 'FR-C',\n",
       "       'IT-45', 'IT-52', 'IT-75', 'FR-L', 'GB-WLS', 'ES-AS', 'GB-NIR',\n",
       "       'NL-NB', 'NL-GR', 'CH-FR', 'CH-JU', 'CH-BE', 'CH-GR', 'CH-SG',\n",
       "       'CH-TI', 'IT-32', 'SI', 'IT-21', 'CH-GE', 'CH-ZH', 'CH-OW',\n",
       "       'IT-88', 'IT-36', 'ES-AR', 'AT-1', 'ES-CL', 'ES-CM', 'IT-57',\n",
       "       'IT-62', 'CH-VD', 'US-CA', 'CH-ZG', 'IT-77', 'IT', 'CH-SO',\n",
       "       'CH-VS', 'CH-LU', 'CH-BL', 'CH-SZ', 'CH-AG', 'ES-MC', 'ES',\n",
       "       'IT-42', 'IT-78', 'BG', 'CH', 'SA', 'EE', 'GP', 'AU', 'GB-HE',\n",
       "       'HU', 'US-PA', 'ES-CB', 'CH-NE', 'CH-AR', 'CH-BS', 'IT-23',\n",
       "       'ES-RI', 'BE', 'NL-DR', 'IT-65', 'CH-GL', 'PL', 'DE', 'NL',\n",
       "       'IT-55', 'SK', 'AT', 'CH-NW', 'US-KS'], dtype=object)"
      ]
     },
     "execution_count": 283,
     "metadata": {},
     "output_type": "execute_result"
    }
   ],
   "source": [
    "data[\"delivery_region\"].unique()"
   ]
  },
  {
   "cell_type": "code",
   "execution_count": 284,
   "metadata": {},
   "outputs": [
    {
     "data": {
      "text/html": [
       "<div>\n",
       "<style scoped>\n",
       "    .dataframe tbody tr th:only-of-type {\n",
       "        vertical-align: middle;\n",
       "    }\n",
       "\n",
       "    .dataframe tbody tr th {\n",
       "        vertical-align: top;\n",
       "    }\n",
       "\n",
       "    .dataframe thead th {\n",
       "        text-align: right;\n",
       "    }\n",
       "</style>\n",
       "<table border=\"1\" class=\"dataframe\">\n",
       "  <thead>\n",
       "    <tr style=\"text-align: right;\">\n",
       "      <th></th>\n",
       "      <th>id</th>\n",
       "      <th>tracking_number</th>\n",
       "      <th>created_date</th>\n",
       "      <th>in_transit_date</th>\n",
       "      <th>country</th>\n",
       "      <th>zip_code</th>\n",
       "      <th>courier</th>\n",
       "      <th>delivery_region</th>\n",
       "      <th>delivery_cancelled</th>\n",
       "      <th>return_tracking</th>\n",
       "      <th>delivery_location</th>\n",
       "      <th>delivery_date</th>\n",
       "      <th>pickup_date</th>\n",
       "      <th>Epoch_transit_date</th>\n",
       "      <th>Epoch_created_date</th>\n",
       "      <th>Epoch_delivery_date</th>\n",
       "      <th>Epoch_pickup_date</th>\n",
       "      <th>time_taken</th>\n",
       "    </tr>\n",
       "  </thead>\n",
       "  <tbody>\n",
       "    <tr>\n",
       "      <th>0</th>\n",
       "      <td>5f4de15806d7504b37050f96</td>\n",
       "      <td>01475110779922</td>\n",
       "      <td>2020-09-01</td>\n",
       "      <td>2020-09-02 13:19:00</td>\n",
       "      <td>GBR</td>\n",
       "      <td>RG64HX</td>\n",
       "      <td>dpd-de</td>\n",
       "      <td>GB-ENG</td>\n",
       "      <td>f</td>\n",
       "      <td>f</td>\n",
       "      <td>HomeDeposit</td>\n",
       "      <td>2020-09-04 07:18:00</td>\n",
       "      <td>2020-09-02</td>\n",
       "      <td>1599052740000</td>\n",
       "      <td>1598918400000</td>\n",
       "      <td>1599203880000</td>\n",
       "      <td>1599004800000</td>\n",
       "      <td>1 days 17:59:00</td>\n",
       "    </tr>\n",
       "    <tr>\n",
       "      <th>1</th>\n",
       "      <td>5f4de158194b8a626b3dfa92</td>\n",
       "      <td>01475110779858</td>\n",
       "      <td>2020-09-01</td>\n",
       "      <td>2020-09-01 14:54:00</td>\n",
       "      <td>DEU</td>\n",
       "      <td>70563</td>\n",
       "      <td>dpd-de</td>\n",
       "      <td>DE-BW</td>\n",
       "      <td>f</td>\n",
       "      <td>f</td>\n",
       "      <td>Unknown</td>\n",
       "      <td>2020-09-02 09:15:00</td>\n",
       "      <td>2020-09-01</td>\n",
       "      <td>1598972040000</td>\n",
       "      <td>1598918400000</td>\n",
       "      <td>1599038100000</td>\n",
       "      <td>1598918400000</td>\n",
       "      <td>0 days 18:21:00</td>\n",
       "    </tr>\n",
       "    <tr>\n",
       "      <th>2</th>\n",
       "      <td>5f4de158194b8a626b3dfa96</td>\n",
       "      <td>01475110779891</td>\n",
       "      <td>2020-09-01</td>\n",
       "      <td>2020-09-01 14:46:00</td>\n",
       "      <td>GBR</td>\n",
       "      <td>RG287FD</td>\n",
       "      <td>dpd-de</td>\n",
       "      <td>GB-ENG</td>\n",
       "      <td>f</td>\n",
       "      <td>f</td>\n",
       "      <td>Unknown</td>\n",
       "      <td>2020-09-04 11:16:00</td>\n",
       "      <td>2020-09-01</td>\n",
       "      <td>1598971560000</td>\n",
       "      <td>1598918400000</td>\n",
       "      <td>1599218160000</td>\n",
       "      <td>1598918400000</td>\n",
       "      <td>2 days 20:30:00</td>\n",
       "    </tr>\n",
       "    <tr>\n",
       "      <th>3</th>\n",
       "      <td>5f4de158194b8a626b3dfa9a</td>\n",
       "      <td>01475110779890</td>\n",
       "      <td>2020-09-01</td>\n",
       "      <td>2020-09-01 14:53:00</td>\n",
       "      <td>ITA</td>\n",
       "      <td>46100</td>\n",
       "      <td>dpd-de</td>\n",
       "      <td>IT-25</td>\n",
       "      <td>f</td>\n",
       "      <td>f</td>\n",
       "      <td>Unknown</td>\n",
       "      <td>2020-09-04 13:09:00</td>\n",
       "      <td>2020-09-01</td>\n",
       "      <td>1598971980000</td>\n",
       "      <td>1598918400000</td>\n",
       "      <td>1599224940000</td>\n",
       "      <td>1598918400000</td>\n",
       "      <td>2 days 22:16:00</td>\n",
       "    </tr>\n",
       "    <tr>\n",
       "      <th>4</th>\n",
       "      <td>5f4de1582995144b61ea96a6</td>\n",
       "      <td>01475110779860</td>\n",
       "      <td>2020-09-01</td>\n",
       "      <td>2020-09-02 13:02:00</td>\n",
       "      <td>ESP</td>\n",
       "      <td>07817</td>\n",
       "      <td>dpd-de</td>\n",
       "      <td>ES-IB</td>\n",
       "      <td>f</td>\n",
       "      <td>f</td>\n",
       "      <td>Unknown</td>\n",
       "      <td>2020-09-08 17:10:00</td>\n",
       "      <td>2020-09-02</td>\n",
       "      <td>1599051720000</td>\n",
       "      <td>1598918400000</td>\n",
       "      <td>1599585000000</td>\n",
       "      <td>1599004800000</td>\n",
       "      <td>6 days 04:08:00</td>\n",
       "    </tr>\n",
       "  </tbody>\n",
       "</table>\n",
       "</div>"
      ],
      "text/plain": [
       "                         id tracking_number created_date     in_transit_date  \\\n",
       "0  5f4de15806d7504b37050f96  01475110779922   2020-09-01 2020-09-02 13:19:00   \n",
       "1  5f4de158194b8a626b3dfa92  01475110779858   2020-09-01 2020-09-01 14:54:00   \n",
       "2  5f4de158194b8a626b3dfa96  01475110779891   2020-09-01 2020-09-01 14:46:00   \n",
       "3  5f4de158194b8a626b3dfa9a  01475110779890   2020-09-01 2020-09-01 14:53:00   \n",
       "4  5f4de1582995144b61ea96a6  01475110779860   2020-09-01 2020-09-02 13:02:00   \n",
       "\n",
       "  country zip_code courier delivery_region delivery_cancelled return_tracking  \\\n",
       "0     GBR   RG64HX  dpd-de          GB-ENG                  f               f   \n",
       "1     DEU    70563  dpd-de           DE-BW                  f               f   \n",
       "2     GBR  RG287FD  dpd-de          GB-ENG                  f               f   \n",
       "3     ITA    46100  dpd-de           IT-25                  f               f   \n",
       "4     ESP    07817  dpd-de           ES-IB                  f               f   \n",
       "\n",
       "  delivery_location       delivery_date pickup_date  Epoch_transit_date  \\\n",
       "0       HomeDeposit 2020-09-04 07:18:00  2020-09-02       1599052740000   \n",
       "1           Unknown 2020-09-02 09:15:00  2020-09-01       1598972040000   \n",
       "2           Unknown 2020-09-04 11:16:00  2020-09-01       1598971560000   \n",
       "3           Unknown 2020-09-04 13:09:00  2020-09-01       1598971980000   \n",
       "4           Unknown 2020-09-08 17:10:00  2020-09-02       1599051720000   \n",
       "\n",
       "   Epoch_created_date  Epoch_delivery_date  Epoch_pickup_date      time_taken  \n",
       "0       1598918400000        1599203880000      1599004800000 1 days 17:59:00  \n",
       "1       1598918400000        1599038100000      1598918400000 0 days 18:21:00  \n",
       "2       1598918400000        1599218160000      1598918400000 2 days 20:30:00  \n",
       "3       1598918400000        1599224940000      1598918400000 2 days 22:16:00  \n",
       "4       1598918400000        1599585000000      1599004800000 6 days 04:08:00  "
      ]
     },
     "execution_count": 284,
     "metadata": {},
     "output_type": "execute_result"
    }
   ],
   "source": [
    "#creating a variable that distingishes the number of days and hours between time in transit to delivery\n",
    "data['time_taken'] = (data.delivery_date - data.in_transit_date)\n",
    "data.head()"
   ]
  },
  {
   "cell_type": "code",
   "execution_count": 285,
   "metadata": {},
   "outputs": [
    {
     "name": "stdout",
     "output_type": "stream",
     "text": [
      "Average time to make a delivery across all delievry vendors: 2 days 06:25:43.517953\n"
     ]
    }
   ],
   "source": [
    "# Average time to get a delivery from transit to customer across all couriers\n",
    "print(\"Average time to make a delivery across all delievry vendors:\", data[\"time_taken\"].mean())"
   ]
  },
  {
   "cell_type": "markdown",
   "metadata": {},
   "source": [
    "### Analysing average time for individual couriers, as well as average time taken to deliver to each region"
   ]
  },
  {
   "cell_type": "code",
   "execution_count": 286,
   "metadata": {},
   "outputs": [
    {
     "data": {
      "text/html": [
       "<div>\n",
       "<style scoped>\n",
       "    .dataframe tbody tr th:only-of-type {\n",
       "        vertical-align: middle;\n",
       "    }\n",
       "\n",
       "    .dataframe tbody tr th {\n",
       "        vertical-align: top;\n",
       "    }\n",
       "\n",
       "    .dataframe thead tr th {\n",
       "        text-align: left;\n",
       "    }\n",
       "\n",
       "    .dataframe thead tr:last-of-type th {\n",
       "        text-align: right;\n",
       "    }\n",
       "</style>\n",
       "<table border=\"1\" class=\"dataframe\">\n",
       "  <thead>\n",
       "    <tr>\n",
       "      <th></th>\n",
       "      <th colspan=\"8\" halign=\"left\">time_taken</th>\n",
       "    </tr>\n",
       "    <tr>\n",
       "      <th></th>\n",
       "      <th>count</th>\n",
       "      <th>mean</th>\n",
       "      <th>std</th>\n",
       "      <th>min</th>\n",
       "      <th>25%</th>\n",
       "      <th>50%</th>\n",
       "      <th>75%</th>\n",
       "      <th>max</th>\n",
       "    </tr>\n",
       "    <tr>\n",
       "      <th>courier</th>\n",
       "      <th></th>\n",
       "      <th></th>\n",
       "      <th></th>\n",
       "      <th></th>\n",
       "      <th></th>\n",
       "      <th></th>\n",
       "      <th></th>\n",
       "      <th></th>\n",
       "    </tr>\n",
       "  </thead>\n",
       "  <tbody>\n",
       "    <tr>\n",
       "      <th>dhl-germany</th>\n",
       "      <td>2765</td>\n",
       "      <td>1 days 16:06:51.081374</td>\n",
       "      <td>1 days 21:52:15.476858</td>\n",
       "      <td>05:14:00</td>\n",
       "      <td>0 days 19:12:00</td>\n",
       "      <td>0 days 21:53:00</td>\n",
       "      <td>1 days 19:16:00</td>\n",
       "      <td>28 days 13:05:00</td>\n",
       "    </tr>\n",
       "    <tr>\n",
       "      <th>dpd-de</th>\n",
       "      <td>6204</td>\n",
       "      <td>2 days 06:56:08.989765</td>\n",
       "      <td>2 days 01:14:21.569311</td>\n",
       "      <td>11:58:00</td>\n",
       "      <td>0 days 22:43:45</td>\n",
       "      <td>1 days 21:07:30</td>\n",
       "      <td>2 days 22:24:00</td>\n",
       "      <td>44 days 18:44:59</td>\n",
       "    </tr>\n",
       "    <tr>\n",
       "      <th>ups</th>\n",
       "      <td>1029</td>\n",
       "      <td>3 days 17:50:08.979591</td>\n",
       "      <td>1 days 22:23:18.343907</td>\n",
       "      <td>12:49:00</td>\n",
       "      <td>2 days 01:09:00</td>\n",
       "      <td>3 days 18:22:00</td>\n",
       "      <td>4 days 21:36:00</td>\n",
       "      <td>18 days 05:11:00</td>\n",
       "    </tr>\n",
       "  </tbody>\n",
       "</table>\n",
       "</div>"
      ],
      "text/plain": [
       "            time_taken                                                         \\\n",
       "                 count                   mean                    std      min   \n",
       "courier                                                                         \n",
       "dhl-germany       2765 1 days 16:06:51.081374 1 days 21:52:15.476858 05:14:00   \n",
       "dpd-de            6204 2 days 06:56:08.989765 2 days 01:14:21.569311 11:58:00   \n",
       "ups               1029 3 days 17:50:08.979591 1 days 22:23:18.343907 12:49:00   \n",
       "\n",
       "                                                                              \n",
       "                        25%             50%             75%              max  \n",
       "courier                                                                       \n",
       "dhl-germany 0 days 19:12:00 0 days 21:53:00 1 days 19:16:00 28 days 13:05:00  \n",
       "dpd-de      0 days 22:43:45 1 days 21:07:30 2 days 22:24:00 44 days 18:44:59  \n",
       "ups         2 days 01:09:00 3 days 18:22:00 4 days 21:36:00 18 days 05:11:00  "
      ]
     },
     "execution_count": 286,
     "metadata": {},
     "output_type": "execute_result"
    }
   ],
   "source": [
    "courier_time = data.groupby(\"courier\")\n",
    "courier_time[['time_taken']].describe()"
   ]
  },
  {
   "cell_type": "code",
   "execution_count": 287,
   "metadata": {},
   "outputs": [
    {
     "data": {
      "text/html": [
       "<div>\n",
       "<style scoped>\n",
       "    .dataframe tbody tr th:only-of-type {\n",
       "        vertical-align: middle;\n",
       "    }\n",
       "\n",
       "    .dataframe tbody tr th {\n",
       "        vertical-align: top;\n",
       "    }\n",
       "\n",
       "    .dataframe thead tr th {\n",
       "        text-align: left;\n",
       "    }\n",
       "\n",
       "    .dataframe thead tr:last-of-type th {\n",
       "        text-align: right;\n",
       "    }\n",
       "</style>\n",
       "<table border=\"1\" class=\"dataframe\">\n",
       "  <thead>\n",
       "    <tr>\n",
       "      <th></th>\n",
       "      <th colspan=\"8\" halign=\"left\">time_taken</th>\n",
       "    </tr>\n",
       "    <tr>\n",
       "      <th></th>\n",
       "      <th>count</th>\n",
       "      <th>mean</th>\n",
       "      <th>std</th>\n",
       "      <th>min</th>\n",
       "      <th>25%</th>\n",
       "      <th>50%</th>\n",
       "      <th>75%</th>\n",
       "      <th>max</th>\n",
       "    </tr>\n",
       "    <tr>\n",
       "      <th>delivery_region</th>\n",
       "      <th></th>\n",
       "      <th></th>\n",
       "      <th></th>\n",
       "      <th></th>\n",
       "      <th></th>\n",
       "      <th></th>\n",
       "      <th></th>\n",
       "      <th></th>\n",
       "    </tr>\n",
       "  </thead>\n",
       "  <tbody>\n",
       "    <tr>\n",
       "      <th>AT</th>\n",
       "      <td>1</td>\n",
       "      <td>1 days 20:22:00</td>\n",
       "      <td>NaT</td>\n",
       "      <td>1 days 20:22:00</td>\n",
       "      <td>1 days 20:22:00</td>\n",
       "      <td>1 days 20:22:00</td>\n",
       "      <td>1 days 20:22:00</td>\n",
       "      <td>1 days 20:22:00</td>\n",
       "    </tr>\n",
       "    <tr>\n",
       "      <th>AT-1</th>\n",
       "      <td>9</td>\n",
       "      <td>3 days 23:16:13.333333</td>\n",
       "      <td>1 days 10:33:04.550487</td>\n",
       "      <td>1 days 22:36:00</td>\n",
       "      <td>3 days 16:05:00</td>\n",
       "      <td>3 days 20:02:00</td>\n",
       "      <td>4 days 12:27:00</td>\n",
       "      <td>6 days 17:29:00</td>\n",
       "    </tr>\n",
       "    <tr>\n",
       "      <th>AT-2</th>\n",
       "      <td>38</td>\n",
       "      <td>3 days 02:33:48.947368</td>\n",
       "      <td>1 days 13:43:57.236521</td>\n",
       "      <td>0 days 20:22:00</td>\n",
       "      <td>1 days 22:20:45</td>\n",
       "      <td>2 days 11:43:30</td>\n",
       "      <td>3 days 22:18:00</td>\n",
       "      <td>6 days 19:13:00</td>\n",
       "    </tr>\n",
       "    <tr>\n",
       "      <th>AT-3</th>\n",
       "      <td>91</td>\n",
       "      <td>3 days 01:35:14.802197</td>\n",
       "      <td>1 days 07:38:50.185775</td>\n",
       "      <td>0 days 15:36:00</td>\n",
       "      <td>1 days 23:03:00</td>\n",
       "      <td>2 days 22:56:00</td>\n",
       "      <td>3 days 21:32:30</td>\n",
       "      <td>7 days 15:30:00</td>\n",
       "    </tr>\n",
       "    <tr>\n",
       "      <th>AT-4</th>\n",
       "      <td>61</td>\n",
       "      <td>3 days 09:20:33.540983</td>\n",
       "      <td>1 days 01:24:24.464755</td>\n",
       "      <td>0 days 12:51:00</td>\n",
       "      <td>2 days 04:26:00</td>\n",
       "      <td>3 days 18:51:00</td>\n",
       "      <td>3 days 23:29:00</td>\n",
       "      <td>6 days 01:54:00</td>\n",
       "    </tr>\n",
       "    <tr>\n",
       "      <th>...</th>\n",
       "      <td>...</td>\n",
       "      <td>...</td>\n",
       "      <td>...</td>\n",
       "      <td>...</td>\n",
       "      <td>...</td>\n",
       "      <td>...</td>\n",
       "      <td>...</td>\n",
       "      <td>...</td>\n",
       "    </tr>\n",
       "    <tr>\n",
       "      <th>SK</th>\n",
       "      <td>1</td>\n",
       "      <td>1 days 18:43:00</td>\n",
       "      <td>NaT</td>\n",
       "      <td>1 days 18:43:00</td>\n",
       "      <td>1 days 18:43:00</td>\n",
       "      <td>1 days 18:43:00</td>\n",
       "      <td>1 days 18:43:00</td>\n",
       "      <td>1 days 18:43:00</td>\n",
       "    </tr>\n",
       "    <tr>\n",
       "      <th>US</th>\n",
       "      <td>11</td>\n",
       "      <td>2 days 03:04:54.545454</td>\n",
       "      <td>1 days 01:34:32.702617</td>\n",
       "      <td>0 days 18:38:00</td>\n",
       "      <td>1 days 06:45:00</td>\n",
       "      <td>1 days 22:51:00</td>\n",
       "      <td>2 days 21:49:30</td>\n",
       "      <td>4 days 02:24:00</td>\n",
       "    </tr>\n",
       "    <tr>\n",
       "      <th>US-CA</th>\n",
       "      <td>1</td>\n",
       "      <td>1 days 20:32:00</td>\n",
       "      <td>NaT</td>\n",
       "      <td>1 days 20:32:00</td>\n",
       "      <td>1 days 20:32:00</td>\n",
       "      <td>1 days 20:32:00</td>\n",
       "      <td>1 days 20:32:00</td>\n",
       "      <td>1 days 20:32:00</td>\n",
       "    </tr>\n",
       "    <tr>\n",
       "      <th>US-KS</th>\n",
       "      <td>1</td>\n",
       "      <td>1 days 00:25:00</td>\n",
       "      <td>NaT</td>\n",
       "      <td>1 days 00:25:00</td>\n",
       "      <td>1 days 00:25:00</td>\n",
       "      <td>1 days 00:25:00</td>\n",
       "      <td>1 days 00:25:00</td>\n",
       "      <td>1 days 00:25:00</td>\n",
       "    </tr>\n",
       "    <tr>\n",
       "      <th>US-PA</th>\n",
       "      <td>2</td>\n",
       "      <td>3 days 18:24:30</td>\n",
       "      <td>0 days 00:02:07.279220</td>\n",
       "      <td>3 days 18:23:00</td>\n",
       "      <td>3 days 18:23:45</td>\n",
       "      <td>3 days 18:24:30</td>\n",
       "      <td>3 days 18:25:15</td>\n",
       "      <td>3 days 18:26:00</td>\n",
       "    </tr>\n",
       "  </tbody>\n",
       "</table>\n",
       "<p>156 rows × 8 columns</p>\n",
       "</div>"
      ],
      "text/plain": [
       "                time_taken                                                \\\n",
       "                     count                   mean                    std   \n",
       "delivery_region                                                            \n",
       "AT                       1        1 days 20:22:00                    NaT   \n",
       "AT-1                     9 3 days 23:16:13.333333 1 days 10:33:04.550487   \n",
       "AT-2                    38 3 days 02:33:48.947368 1 days 13:43:57.236521   \n",
       "AT-3                    91 3 days 01:35:14.802197 1 days 07:38:50.185775   \n",
       "AT-4                    61 3 days 09:20:33.540983 1 days 01:24:24.464755   \n",
       "...                    ...                    ...                    ...   \n",
       "SK                       1        1 days 18:43:00                    NaT   \n",
       "US                      11 2 days 03:04:54.545454 1 days 01:34:32.702617   \n",
       "US-CA                    1        1 days 20:32:00                    NaT   \n",
       "US-KS                    1        1 days 00:25:00                    NaT   \n",
       "US-PA                    2        3 days 18:24:30 0 days 00:02:07.279220   \n",
       "\n",
       "                                                                 \\\n",
       "                            min             25%             50%   \n",
       "delivery_region                                                   \n",
       "AT              1 days 20:22:00 1 days 20:22:00 1 days 20:22:00   \n",
       "AT-1            1 days 22:36:00 3 days 16:05:00 3 days 20:02:00   \n",
       "AT-2            0 days 20:22:00 1 days 22:20:45 2 days 11:43:30   \n",
       "AT-3            0 days 15:36:00 1 days 23:03:00 2 days 22:56:00   \n",
       "AT-4            0 days 12:51:00 2 days 04:26:00 3 days 18:51:00   \n",
       "...                         ...             ...             ...   \n",
       "SK              1 days 18:43:00 1 days 18:43:00 1 days 18:43:00   \n",
       "US              0 days 18:38:00 1 days 06:45:00 1 days 22:51:00   \n",
       "US-CA           1 days 20:32:00 1 days 20:32:00 1 days 20:32:00   \n",
       "US-KS           1 days 00:25:00 1 days 00:25:00 1 days 00:25:00   \n",
       "US-PA           3 days 18:23:00 3 days 18:23:45 3 days 18:24:30   \n",
       "\n",
       "                                                 \n",
       "                            75%             max  \n",
       "delivery_region                                  \n",
       "AT              1 days 20:22:00 1 days 20:22:00  \n",
       "AT-1            4 days 12:27:00 6 days 17:29:00  \n",
       "AT-2            3 days 22:18:00 6 days 19:13:00  \n",
       "AT-3            3 days 21:32:30 7 days 15:30:00  \n",
       "AT-4            3 days 23:29:00 6 days 01:54:00  \n",
       "...                         ...             ...  \n",
       "SK              1 days 18:43:00 1 days 18:43:00  \n",
       "US              2 days 21:49:30 4 days 02:24:00  \n",
       "US-CA           1 days 20:32:00 1 days 20:32:00  \n",
       "US-KS           1 days 00:25:00 1 days 00:25:00  \n",
       "US-PA           3 days 18:25:15 3 days 18:26:00  \n",
       "\n",
       "[156 rows x 8 columns]"
      ]
     },
     "execution_count": 287,
     "metadata": {},
     "output_type": "execute_result"
    }
   ],
   "source": [
    "avgTime_region = data.groupby(\"delivery_region\")\n",
    "avgTime_region[['time_taken']].describe()"
   ]
  },
  {
   "cell_type": "code",
   "execution_count": 288,
   "metadata": {},
   "outputs": [
    {
     "data": {
      "text/plain": [
       "<matplotlib.axes._subplots.AxesSubplot at 0x24d660d2908>"
      ]
     },
     "execution_count": 288,
     "metadata": {},
     "output_type": "execute_result"
    },
    {
     "data": {
      "image/png": "[encoded data removed]",
      "text/plain": [
       "<Figure size 432x288 with 1 Axes>"
      ]
     },
     "metadata": {
      "needs_background": "light"
     },
     "output_type": "display_data"
    }
   ],
   "source": [
    "# observing the frequency of deliveries by each courier\n",
    "sns.countplot(data= data, x=\"courier\", palette=\"ch:.25\")"
   ]
  },
  {
   "cell_type": "markdown",
   "metadata": {},
   "source": [
    "### Creation of Model - converting dates into floats so they can then be predicted"
   ]
  },
  {
   "cell_type": "code",
   "execution_count": 296,
   "metadata": {},
   "outputs": [],
   "source": [
    "from sklearn.linear_model import LinearRegression\n",
    "from sklearn.model_selection import train_test_split\n",
    "from sklearn.preprocessing import LabelEncoder"
   ]
  },
  {
   "cell_type": "code",
   "execution_count": 297,
   "metadata": {},
   "outputs": [],
   "source": [
    "X = data.loc[:,['delivery_region', 'courier', 'zip_code','return_tracking','delivery_location','Epoch_transit_date','Epoch_created_date','Epoch_pickup_date']]\n",
    "Y = data['Epoch_delivery_date']"
   ]
  },
  {
   "cell_type": "code",
   "execution_count": 298,
   "metadata": {},
   "outputs": [
    {
     "data": {
      "text/html": [
       "<div>\n",
       "<style scoped>\n",
       "    .dataframe tbody tr th:only-of-type {\n",
       "        vertical-align: middle;\n",
       "    }\n",
       "\n",
       "    .dataframe tbody tr th {\n",
       "        vertical-align: top;\n",
       "    }\n",
       "\n",
       "    .dataframe thead th {\n",
       "        text-align: right;\n",
       "    }\n",
       "</style>\n",
       "<table border=\"1\" class=\"dataframe\">\n",
       "  <thead>\n",
       "    <tr style=\"text-align: right;\">\n",
       "      <th></th>\n",
       "      <th>delivery_region</th>\n",
       "      <th>courier</th>\n",
       "      <th>zip_code</th>\n",
       "      <th>return_tracking</th>\n",
       "      <th>delivery_location</th>\n",
       "      <th>Epoch_transit_date</th>\n",
       "      <th>Epoch_created_date</th>\n",
       "      <th>Epoch_pickup_date</th>\n",
       "    </tr>\n",
       "  </thead>\n",
       "  <tbody>\n",
       "    <tr>\n",
       "      <th>0</th>\n",
       "      <td>GB-ENG</td>\n",
       "      <td>dpd-de</td>\n",
       "      <td>RG64HX</td>\n",
       "      <td>f</td>\n",
       "      <td>HomeDeposit</td>\n",
       "      <td>1599052740000</td>\n",
       "      <td>1598918400000</td>\n",
       "      <td>1599004800000</td>\n",
       "    </tr>\n",
       "    <tr>\n",
       "      <th>1</th>\n",
       "      <td>DE-BW</td>\n",
       "      <td>dpd-de</td>\n",
       "      <td>70563</td>\n",
       "      <td>f</td>\n",
       "      <td>Unknown</td>\n",
       "      <td>1598972040000</td>\n",
       "      <td>1598918400000</td>\n",
       "      <td>1598918400000</td>\n",
       "    </tr>\n",
       "    <tr>\n",
       "      <th>2</th>\n",
       "      <td>GB-ENG</td>\n",
       "      <td>dpd-de</td>\n",
       "      <td>RG287FD</td>\n",
       "      <td>f</td>\n",
       "      <td>Unknown</td>\n",
       "      <td>1598971560000</td>\n",
       "      <td>1598918400000</td>\n",
       "      <td>1598918400000</td>\n",
       "    </tr>\n",
       "    <tr>\n",
       "      <th>3</th>\n",
       "      <td>IT-25</td>\n",
       "      <td>dpd-de</td>\n",
       "      <td>46100</td>\n",
       "      <td>f</td>\n",
       "      <td>Unknown</td>\n",
       "      <td>1598971980000</td>\n",
       "      <td>1598918400000</td>\n",
       "      <td>1598918400000</td>\n",
       "    </tr>\n",
       "    <tr>\n",
       "      <th>4</th>\n",
       "      <td>ES-IB</td>\n",
       "      <td>dpd-de</td>\n",
       "      <td>07817</td>\n",
       "      <td>f</td>\n",
       "      <td>Unknown</td>\n",
       "      <td>1599051720000</td>\n",
       "      <td>1598918400000</td>\n",
       "      <td>1599004800000</td>\n",
       "    </tr>\n",
       "  </tbody>\n",
       "</table>\n",
       "</div>"
      ],
      "text/plain": [
       "  delivery_region courier zip_code return_tracking delivery_location  \\\n",
       "0          GB-ENG  dpd-de   RG64HX               f       HomeDeposit   \n",
       "1           DE-BW  dpd-de    70563               f           Unknown   \n",
       "2          GB-ENG  dpd-de  RG287FD               f           Unknown   \n",
       "3           IT-25  dpd-de    46100               f           Unknown   \n",
       "4           ES-IB  dpd-de    07817               f           Unknown   \n",
       "\n",
       "   Epoch_transit_date  Epoch_created_date  Epoch_pickup_date  \n",
       "0       1599052740000       1598918400000      1599004800000  \n",
       "1       1598972040000       1598918400000      1598918400000  \n",
       "2       1598971560000       1598918400000      1598918400000  \n",
       "3       1598971980000       1598918400000      1598918400000  \n",
       "4       1599051720000       1598918400000      1599004800000  "
      ]
     },
     "execution_count": 298,
     "metadata": {},
     "output_type": "execute_result"
    }
   ],
   "source": [
    "X.head()"
   ]
  },
  {
   "cell_type": "code",
   "execution_count": 299,
   "metadata": {},
   "outputs": [],
   "source": [
    "enc = LabelEncoder()\n",
    "X.loc[:,['delivery_region', 'courier', 'zip_code','return_tracking','delivery_location']]= \\\n",
    "X.loc[:,['delivery_region', 'courier', 'zip_code','return_tracking','delivery_location']].apply(enc.fit_transform)\n"
   ]
  },
  {
   "cell_type": "code",
   "execution_count": 304,
   "metadata": {},
   "outputs": [
    {
     "data": {
      "text/html": [
       "<div>\n",
       "<style scoped>\n",
       "    .dataframe tbody tr th:only-of-type {\n",
       "        vertical-align: middle;\n",
       "    }\n",
       "\n",
       "    .dataframe tbody tr th {\n",
       "        vertical-align: top;\n",
       "    }\n",
       "\n",
       "    .dataframe thead th {\n",
       "        text-align: right;\n",
       "    }\n",
       "</style>\n",
       "<table border=\"1\" class=\"dataframe\">\n",
       "  <thead>\n",
       "    <tr style=\"text-align: right;\">\n",
       "      <th></th>\n",
       "      <th>delivery_region</th>\n",
       "      <th>courier</th>\n",
       "      <th>zip_code</th>\n",
       "      <th>return_tracking</th>\n",
       "      <th>delivery_location</th>\n",
       "      <th>Epoch_transit_date</th>\n",
       "      <th>Epoch_created_date</th>\n",
       "      <th>Epoch_pickup_date</th>\n",
       "    </tr>\n",
       "  </thead>\n",
       "  <tbody>\n",
       "    <tr>\n",
       "      <th>0</th>\n",
       "      <td>102</td>\n",
       "      <td>1</td>\n",
       "      <td>6469</td>\n",
       "      <td>0</td>\n",
       "      <td>1</td>\n",
       "      <td>1599052740000</td>\n",
       "      <td>1598918400000</td>\n",
       "      <td>1599004800000</td>\n",
       "    </tr>\n",
       "    <tr>\n",
       "      <th>1</th>\n",
       "      <td>44</td>\n",
       "      <td>1</td>\n",
       "      <td>3970</td>\n",
       "      <td>0</td>\n",
       "      <td>5</td>\n",
       "      <td>1598972040000</td>\n",
       "      <td>1598918400000</td>\n",
       "      <td>1598918400000</td>\n",
       "    </tr>\n",
       "    <tr>\n",
       "      <th>2</th>\n",
       "      <td>102</td>\n",
       "      <td>1</td>\n",
       "      <td>6466</td>\n",
       "      <td>0</td>\n",
       "      <td>5</td>\n",
       "      <td>1598971560000</td>\n",
       "      <td>1598918400000</td>\n",
       "      <td>1598918400000</td>\n",
       "    </tr>\n",
       "    <tr>\n",
       "      <th>3</th>\n",
       "      <td>114</td>\n",
       "      <td>1</td>\n",
       "      <td>2653</td>\n",
       "      <td>0</td>\n",
       "      <td>5</td>\n",
       "      <td>1598971980000</td>\n",
       "      <td>1598918400000</td>\n",
       "      <td>1598918400000</td>\n",
       "    </tr>\n",
       "    <tr>\n",
       "      <th>4</th>\n",
       "      <td>71</td>\n",
       "      <td>1</td>\n",
       "      <td>335</td>\n",
       "      <td>0</td>\n",
       "      <td>5</td>\n",
       "      <td>1599051720000</td>\n",
       "      <td>1598918400000</td>\n",
       "      <td>1599004800000</td>\n",
       "    </tr>\n",
       "  </tbody>\n",
       "</table>\n",
       "</div>"
      ],
      "text/plain": [
       "   delivery_region  courier  zip_code  return_tracking  delivery_location  \\\n",
       "0              102        1      6469                0                  1   \n",
       "1               44        1      3970                0                  5   \n",
       "2              102        1      6466                0                  5   \n",
       "3              114        1      2653                0                  5   \n",
       "4               71        1       335                0                  5   \n",
       "\n",
       "   Epoch_transit_date  Epoch_created_date  Epoch_pickup_date  \n",
       "0       1599052740000       1598918400000      1599004800000  \n",
       "1       1598972040000       1598918400000      1598918400000  \n",
       "2       1598971560000       1598918400000      1598918400000  \n",
       "3       1598971980000       1598918400000      1598918400000  \n",
       "4       1599051720000       1598918400000      1599004800000  "
      ]
     },
     "execution_count": 304,
     "metadata": {},
     "output_type": "execute_result"
    }
   ],
   "source": [
    "X.head()"
   ]
  },
  {
   "cell_type": "code",
   "execution_count": 305,
   "metadata": {},
   "outputs": [],
   "source": [
    "X_train, X_test, Y_train, Y_test =train_test_split(X, Y, test_size=0.3)"
   ]
  },
  {
   "cell_type": "code",
   "execution_count": 306,
   "metadata": {},
   "outputs": [],
   "source": [
    "regr = LinearRegression()"
   ]
  },
  {
   "cell_type": "code",
   "execution_count": 307,
   "metadata": {},
   "outputs": [
    {
     "data": {
      "text/plain": [
       "LinearRegression()"
      ]
     },
     "execution_count": 307,
     "metadata": {},
     "output_type": "execute_result"
    }
   ],
   "source": [
    "regr.fit(X_train, Y_train)"
   ]
  },
  {
   "cell_type": "code",
   "execution_count": 308,
   "metadata": {},
   "outputs": [],
   "source": [
    "pred = regr.predict(X_test)"
   ]
  },
  {
   "cell_type": "code",
   "execution_count": 309,
   "metadata": {},
   "outputs": [
    {
     "data": {
      "text/plain": [
       "array([1.59931876e+12, 1.59986751e+12, 1.59942368e+12, ...,\n",
       "       1.59943188e+12, 1.59936966e+12, 1.59934340e+12])"
      ]
     },
     "execution_count": 309,
     "metadata": {},
     "output_type": "execute_result"
    }
   ],
   "source": [
    "pred"
   ]
  },
  {
   "cell_type": "code",
   "execution_count": 310,
   "metadata": {},
   "outputs": [
    {
     "data": {
      "text/plain": [
       "0.7065917588807422"
      ]
     },
     "execution_count": 310,
     "metadata": {},
     "output_type": "execute_result"
    }
   ],
   "source": [
    "regr.score(X_test, Y_test)"
   ]
  },
  {
   "cell_type": "code",
   "execution_count": 365,
   "metadata": {},
   "outputs": [
    {
     "data": {
      "text/plain": [
       "RandomForestRegressor(max_depth=10, n_estimators=90)"
      ]
     },
     "execution_count": 365,
     "metadata": {},
     "output_type": "execute_result"
    }
   ],
   "source": [
    "from sklearn.ensemble import RandomForestRegressor\n",
    "Forest = RandomForestRegressor(n_estimators=90, max_depth=10)\n",
    "Forest.fit(X_train, Y_train)"
   ]
  },
  {
   "cell_type": "code",
   "execution_count": 366,
   "metadata": {},
   "outputs": [],
   "source": [
    "predForest = Forest.predict(X_test)"
   ]
  },
  {
   "cell_type": "code",
   "execution_count": 367,
   "metadata": {},
   "outputs": [
    {
     "data": {
      "text/plain": [
       "array([1.59924119e+12, 1.60008020e+12, 1.59945665e+12, ...,\n",
       "       1.59943421e+12, 1.59932866e+12, 1.59925282e+12])"
      ]
     },
     "execution_count": 367,
     "metadata": {},
     "output_type": "execute_result"
    }
   ],
   "source": [
    "predForest"
   ]
  },
  {
   "cell_type": "code",
   "execution_count": 368,
   "metadata": {},
   "outputs": [
    {
     "data": {
      "text/plain": [
       "0.7914623380732826"
      ]
     },
     "execution_count": 368,
     "metadata": {},
     "output_type": "execute_result"
    }
   ],
   "source": [
    "from sklearn.metrics import r2_score\n",
    "r2_score(Y_test,predForest)"
   ]
  },
  {
   "cell_type": "code",
   "execution_count": null,
   "metadata": {},
   "outputs": [],
   "source": []
  }
 ],
 "metadata": {
  "kernelspec": {
   "display_name": "Python 3",
   "language": "python",
   "name": "python3"
  },
  "language_info": {
   "codemirror_mode": {
    "name": "ipython",
    "version": 3
   },
   "file_extension": ".py",
   "mimetype": "text/x-python",
   "name": "python",
   "nbconvert_exporter": "python",
   "pygments_lexer": "ipython3",
   "version": "3.7.6"
  }
 },
 "nbformat": 4,
 "nbformat_minor": 4
}
