{
 "cells": [
  {
   "cell_type": "code",
   "execution_count": 1,
   "metadata": {},
   "outputs": [],
   "source": [
    "import pandas as pd\n",
    "import matplotlib.pyplot as plt\n",
    "import numpy as np\n",
    "import seaborn as sns\n",
    "import datetime as dt\n"
   ]
  },
  {
   "cell_type": "code",
   "execution_count": 2,
   "metadata": {},
   "outputs": [
    {
     "data": {
      "text/html": [
       "<div>\n",
       "<style scoped>\n",
       "    .dataframe tbody tr th:only-of-type {\n",
       "        vertical-align: middle;\n",
       "    }\n",
       "\n",
       "    .dataframe tbody tr th {\n",
       "        vertical-align: top;\n",
       "    }\n",
       "\n",
       "    .dataframe thead th {\n",
       "        text-align: right;\n",
       "    }\n",
       "</style>\n",
       "<table border=\"1\" class=\"dataframe\">\n",
       "  <thead>\n",
       "    <tr style=\"text-align: right;\">\n",
       "      <th></th>\n",
       "      <th>id</th>\n",
       "      <th>tracking_number</th>\n",
       "      <th>created_date</th>\n",
       "      <th>in_transit_date</th>\n",
       "      <th>country</th>\n",
       "      <th>zip_code</th>\n",
       "      <th>courier</th>\n",
       "      <th>delivery_region</th>\n",
       "      <th>delivery_cancelled</th>\n",
       "      <th>return_tracking</th>\n",
       "      <th>delivery_location</th>\n",
       "      <th>delivery_date</th>\n",
       "      <th>pickup_date</th>\n",
       "    </tr>\n",
       "  </thead>\n",
       "  <tbody>\n",
       "    <tr>\n",
       "      <th>0</th>\n",
       "      <td>5f4de15806d7504b37050f96</td>\n",
       "      <td>01475110779922</td>\n",
       "      <td>2020-09-01</td>\n",
       "      <td>2020-09-02 13:19:00</td>\n",
       "      <td>GBR</td>\n",
       "      <td>RG64HX</td>\n",
       "      <td>dpd-de</td>\n",
       "      <td>GB-ENG</td>\n",
       "      <td>f</td>\n",
       "      <td>f</td>\n",
       "      <td>HomeDeposit</td>\n",
       "      <td>2020-09-04 07:18:00</td>\n",
       "      <td>2020-09-02 00:00:00</td>\n",
       "    </tr>\n",
       "    <tr>\n",
       "      <th>1</th>\n",
       "      <td>5f4de158194b8a626b3dfa92</td>\n",
       "      <td>01475110779858</td>\n",
       "      <td>2020-09-01</td>\n",
       "      <td>2020-09-01 14:54:00</td>\n",
       "      <td>DEU</td>\n",
       "      <td>70563</td>\n",
       "      <td>dpd-de</td>\n",
       "      <td>DE-BW</td>\n",
       "      <td>f</td>\n",
       "      <td>f</td>\n",
       "      <td>Unknown</td>\n",
       "      <td>2020-09-02 09:15:00</td>\n",
       "      <td>2020-09-01 00:00:00</td>\n",
       "    </tr>\n",
       "    <tr>\n",
       "      <th>2</th>\n",
       "      <td>5f4de158194b8a626b3dfa96</td>\n",
       "      <td>01475110779891</td>\n",
       "      <td>2020-09-01</td>\n",
       "      <td>2020-09-01 14:46:00</td>\n",
       "      <td>GBR</td>\n",
       "      <td>RG287FD</td>\n",
       "      <td>dpd-de</td>\n",
       "      <td>GB-ENG</td>\n",
       "      <td>f</td>\n",
       "      <td>f</td>\n",
       "      <td>Unknown</td>\n",
       "      <td>2020-09-04 11:16:00</td>\n",
       "      <td>2020-09-01 00:00:00</td>\n",
       "    </tr>\n",
       "    <tr>\n",
       "      <th>3</th>\n",
       "      <td>5f4de158194b8a626b3dfa9a</td>\n",
       "      <td>01475110779890</td>\n",
       "      <td>2020-09-01</td>\n",
       "      <td>2020-09-01 14:53:00</td>\n",
       "      <td>ITA</td>\n",
       "      <td>46100</td>\n",
       "      <td>dpd-de</td>\n",
       "      <td>IT-25</td>\n",
       "      <td>f</td>\n",
       "      <td>f</td>\n",
       "      <td>Unknown</td>\n",
       "      <td>2020-09-04 13:09:00</td>\n",
       "      <td>2020-09-01 00:00:00</td>\n",
       "    </tr>\n",
       "    <tr>\n",
       "      <th>4</th>\n",
       "      <td>5f4de1582995144b61ea96a6</td>\n",
       "      <td>01475110779860</td>\n",
       "      <td>2020-09-01</td>\n",
       "      <td>2020-09-02 13:02:00</td>\n",
       "      <td>ESP</td>\n",
       "      <td>07817</td>\n",
       "      <td>dpd-de</td>\n",
       "      <td>ES-IB</td>\n",
       "      <td>f</td>\n",
       "      <td>f</td>\n",
       "      <td>Unknown</td>\n",
       "      <td>2020-09-08 17:10:00</td>\n",
       "      <td>2020-09-02 00:00:00</td>\n",
       "    </tr>\n",
       "  </tbody>\n",
       "</table>\n",
       "</div>"
      ],
      "text/plain": [
       "                         id tracking_number created_date      in_transit_date  \\\n",
       "0  5f4de15806d7504b37050f96  01475110779922   2020-09-01  2020-09-02 13:19:00   \n",
       "1  5f4de158194b8a626b3dfa92  01475110779858   2020-09-01  2020-09-01 14:54:00   \n",
       "2  5f4de158194b8a626b3dfa96  01475110779891   2020-09-01  2020-09-01 14:46:00   \n",
       "3  5f4de158194b8a626b3dfa9a  01475110779890   2020-09-01  2020-09-01 14:53:00   \n",
       "4  5f4de1582995144b61ea96a6  01475110779860   2020-09-01  2020-09-02 13:02:00   \n",
       "\n",
       "  country zip_code courier delivery_region delivery_cancelled return_tracking  \\\n",
       "0     GBR   RG64HX  dpd-de          GB-ENG                  f               f   \n",
       "1     DEU    70563  dpd-de           DE-BW                  f               f   \n",
       "2     GBR  RG287FD  dpd-de          GB-ENG                  f               f   \n",
       "3     ITA    46100  dpd-de           IT-25                  f               f   \n",
       "4     ESP    07817  dpd-de           ES-IB                  f               f   \n",
       "\n",
       "  delivery_location        delivery_date          pickup_date  \n",
       "0       HomeDeposit  2020-09-04 07:18:00  2020-09-02 00:00:00  \n",
       "1           Unknown  2020-09-02 09:15:00  2020-09-01 00:00:00  \n",
       "2           Unknown  2020-09-04 11:16:00  2020-09-01 00:00:00  \n",
       "3           Unknown  2020-09-04 13:09:00  2020-09-01 00:00:00  \n",
       "4           Unknown  2020-09-08 17:10:00  2020-09-02 00:00:00  "
      ]
     },
     "execution_count": 2,
     "metadata": {},
     "output_type": "execute_result"
    }
   ],
   "source": [
    "data = pd.read_csv('delivery_tracking.csv')\n",
    "data.head()"
   ]
  },
  {
   "cell_type": "code",
   "execution_count": 3,
   "metadata": {},
   "outputs": [
    {
     "name": "stdout",
     "output_type": "stream",
     "text": [
      "<class 'pandas.core.frame.DataFrame'>\n",
      "RangeIndex: 10000 entries, 0 to 9999\n",
      "Data columns (total 13 columns):\n",
      " #   Column              Non-Null Count  Dtype \n",
      "---  ------              --------------  ----- \n",
      " 0   id                  10000 non-null  object\n",
      " 1   tracking_number     10000 non-null  object\n",
      " 2   created_date        10000 non-null  object\n",
      " 3   in_transit_date     10000 non-null  object\n",
      " 4   country             9999 non-null   object\n",
      " 5   zip_code            9999 non-null   object\n",
      " 6   courier             10000 non-null  object\n",
      " 7   delivery_region     9999 non-null   object\n",
      " 8   delivery_cancelled  10000 non-null  object\n",
      " 9   return_tracking     10000 non-null  object\n",
      " 10  delivery_location   10000 non-null  object\n",
      " 11  delivery_date       10000 non-null  object\n",
      " 12  pickup_date         10000 non-null  object\n",
      "dtypes: object(13)\n",
      "memory usage: 1015.8+ KB\n"
     ]
    }
   ],
   "source": [
    "data.info()"
   ]
  },
  {
   "cell_type": "code",
   "execution_count": 4,
   "metadata": {},
   "outputs": [
    {
     "name": "stdout",
     "output_type": "stream",
     "text": [
      "<class 'pandas.core.frame.DataFrame'>\n",
      "RangeIndex: 10000 entries, 0 to 9999\n",
      "Data columns (total 13 columns):\n",
      " #   Column              Non-Null Count  Dtype         \n",
      "---  ------              --------------  -----         \n",
      " 0   id                  10000 non-null  object        \n",
      " 1   tracking_number     10000 non-null  object        \n",
      " 2   created_date        10000 non-null  datetime64[ns]\n",
      " 3   in_transit_date     10000 non-null  datetime64[ns]\n",
      " 4   country             9999 non-null   object        \n",
      " 5   zip_code            9999 non-null   object        \n",
      " 6   courier             10000 non-null  object        \n",
      " 7   delivery_region     9999 non-null   object        \n",
      " 8   delivery_cancelled  10000 non-null  object        \n",
      " 9   return_tracking     10000 non-null  object        \n",
      " 10  delivery_location   10000 non-null  object        \n",
      " 11  delivery_date       10000 non-null  datetime64[ns]\n",
      " 12  pickup_date         10000 non-null  datetime64[ns]\n",
      "dtypes: datetime64[ns](4), object(9)\n",
      "memory usage: 1015.8+ KB\n"
     ]
    }
   ],
   "source": [
    "data['created_date'] = pd.to_datetime(data['created_date'])\n",
    "data['delivery_date'] = pd.to_datetime(data['delivery_date'])\n",
    "data['pickup_date'] = pd.to_datetime(data['pickup_date'])\n",
    "data['in_transit_date'] = pd.to_datetime(data['in_transit_date'])\n",
    "data.info()"
   ]
  },
  {
   "cell_type": "code",
   "execution_count": 5,
   "metadata": {},
   "outputs": [],
   "source": [
    "##Creating the epoch version of each date so that it can be used for regression"
   ]
  },
  {
   "cell_type": "code",
   "execution_count": 6,
   "metadata": {},
   "outputs": [],
   "source": [
    "data['Epoch_transit_date'] = data['in_transit_date'].astype(str)\n",
    "data['Epoch_transit_date'] = pd.to_datetime(data['Epoch_transit_date']).values.astype(np.int64) // 10 ** 6\n",
    "\n",
    "data['Epoch_created_date'] = data['created_date'].astype(str)\n",
    "data['Epoch_created_date'] = pd.to_datetime(data['Epoch_created_date']).values.astype(np.int64) // 10 ** 6\n",
    "\n",
    "data['Epoch_delivery_date'] = data['delivery_date'].astype(str)\n",
    "data['Epoch_delivery_date'] = pd.to_datetime(data['Epoch_delivery_date']).values.astype(np.int64) // 10 ** 6\n",
    "\n",
    "data['Epoch_pickup_date'] = data['pickup_date'].astype(str)\n",
    "data['Epoch_pickup_date'] = pd.to_datetime(data['Epoch_pickup_date']).values.astype(np.int64) // 10 ** 6"
   ]
  },
  {
   "cell_type": "code",
   "execution_count": 7,
   "metadata": {},
   "outputs": [
    {
     "data": {
      "text/html": [
       "<div>\n",
       "<style scoped>\n",
       "    .dataframe tbody tr th:only-of-type {\n",
       "        vertical-align: middle;\n",
       "    }\n",
       "\n",
       "    .dataframe tbody tr th {\n",
       "        vertical-align: top;\n",
       "    }\n",
       "\n",
       "    .dataframe thead th {\n",
       "        text-align: right;\n",
       "    }\n",
       "</style>\n",
       "<table border=\"1\" class=\"dataframe\">\n",
       "  <thead>\n",
       "    <tr style=\"text-align: right;\">\n",
       "      <th></th>\n",
       "      <th>id</th>\n",
       "      <th>tracking_number</th>\n",
       "      <th>created_date</th>\n",
       "      <th>in_transit_date</th>\n",
       "      <th>country</th>\n",
       "      <th>zip_code</th>\n",
       "      <th>courier</th>\n",
       "      <th>delivery_region</th>\n",
       "      <th>delivery_cancelled</th>\n",
       "      <th>return_tracking</th>\n",
       "      <th>delivery_location</th>\n",
       "      <th>delivery_date</th>\n",
       "      <th>pickup_date</th>\n",
       "      <th>Epoch_transit_date</th>\n",
       "      <th>Epoch_created_date</th>\n",
       "      <th>Epoch_delivery_date</th>\n",
       "      <th>Epoch_pickup_date</th>\n",
       "    </tr>\n",
       "  </thead>\n",
       "  <tbody>\n",
       "    <tr>\n",
       "      <th>0</th>\n",
       "      <td>5f4de15806d7504b37050f96</td>\n",
       "      <td>01475110779922</td>\n",
       "      <td>2020-09-01</td>\n",
       "      <td>2020-09-02 13:19:00</td>\n",
       "      <td>GBR</td>\n",
       "      <td>RG64HX</td>\n",
       "      <td>dpd-de</td>\n",
       "      <td>GB-ENG</td>\n",
       "      <td>f</td>\n",
       "      <td>f</td>\n",
       "      <td>HomeDeposit</td>\n",
       "      <td>2020-09-04 07:18:00</td>\n",
       "      <td>2020-09-02</td>\n",
       "      <td>1599052740000</td>\n",
       "      <td>1598918400000</td>\n",
       "      <td>1599203880000</td>\n",
       "      <td>1599004800000</td>\n",
       "    </tr>\n",
       "    <tr>\n",
       "      <th>1</th>\n",
       "      <td>5f4de158194b8a626b3dfa92</td>\n",
       "      <td>01475110779858</td>\n",
       "      <td>2020-09-01</td>\n",
       "      <td>2020-09-01 14:54:00</td>\n",
       "      <td>DEU</td>\n",
       "      <td>70563</td>\n",
       "      <td>dpd-de</td>\n",
       "      <td>DE-BW</td>\n",
       "      <td>f</td>\n",
       "      <td>f</td>\n",
       "      <td>Unknown</td>\n",
       "      <td>2020-09-02 09:15:00</td>\n",
       "      <td>2020-09-01</td>\n",
       "      <td>1598972040000</td>\n",
       "      <td>1598918400000</td>\n",
       "      <td>1599038100000</td>\n",
       "      <td>1598918400000</td>\n",
       "    </tr>\n",
       "    <tr>\n",
       "      <th>2</th>\n",
       "      <td>5f4de158194b8a626b3dfa96</td>\n",
       "      <td>01475110779891</td>\n",
       "      <td>2020-09-01</td>\n",
       "      <td>2020-09-01 14:46:00</td>\n",
       "      <td>GBR</td>\n",
       "      <td>RG287FD</td>\n",
       "      <td>dpd-de</td>\n",
       "      <td>GB-ENG</td>\n",
       "      <td>f</td>\n",
       "      <td>f</td>\n",
       "      <td>Unknown</td>\n",
       "      <td>2020-09-04 11:16:00</td>\n",
       "      <td>2020-09-01</td>\n",
       "      <td>1598971560000</td>\n",
       "      <td>1598918400000</td>\n",
       "      <td>1599218160000</td>\n",
       "      <td>1598918400000</td>\n",
       "    </tr>\n",
       "    <tr>\n",
       "      <th>3</th>\n",
       "      <td>5f4de158194b8a626b3dfa9a</td>\n",
       "      <td>01475110779890</td>\n",
       "      <td>2020-09-01</td>\n",
       "      <td>2020-09-01 14:53:00</td>\n",
       "      <td>ITA</td>\n",
       "      <td>46100</td>\n",
       "      <td>dpd-de</td>\n",
       "      <td>IT-25</td>\n",
       "      <td>f</td>\n",
       "      <td>f</td>\n",
       "      <td>Unknown</td>\n",
       "      <td>2020-09-04 13:09:00</td>\n",
       "      <td>2020-09-01</td>\n",
       "      <td>1598971980000</td>\n",
       "      <td>1598918400000</td>\n",
       "      <td>1599224940000</td>\n",
       "      <td>1598918400000</td>\n",
       "    </tr>\n",
       "    <tr>\n",
       "      <th>4</th>\n",
       "      <td>5f4de1582995144b61ea96a6</td>\n",
       "      <td>01475110779860</td>\n",
       "      <td>2020-09-01</td>\n",
       "      <td>2020-09-02 13:02:00</td>\n",
       "      <td>ESP</td>\n",
       "      <td>07817</td>\n",
       "      <td>dpd-de</td>\n",
       "      <td>ES-IB</td>\n",
       "      <td>f</td>\n",
       "      <td>f</td>\n",
       "      <td>Unknown</td>\n",
       "      <td>2020-09-08 17:10:00</td>\n",
       "      <td>2020-09-02</td>\n",
       "      <td>1599051720000</td>\n",
       "      <td>1598918400000</td>\n",
       "      <td>1599585000000</td>\n",
       "      <td>1599004800000</td>\n",
       "    </tr>\n",
       "  </tbody>\n",
       "</table>\n",
       "</div>"
      ],
      "text/plain": [
       "                         id tracking_number created_date     in_transit_date  \\\n",
       "0  5f4de15806d7504b37050f96  01475110779922   2020-09-01 2020-09-02 13:19:00   \n",
       "1  5f4de158194b8a626b3dfa92  01475110779858   2020-09-01 2020-09-01 14:54:00   \n",
       "2  5f4de158194b8a626b3dfa96  01475110779891   2020-09-01 2020-09-01 14:46:00   \n",
       "3  5f4de158194b8a626b3dfa9a  01475110779890   2020-09-01 2020-09-01 14:53:00   \n",
       "4  5f4de1582995144b61ea96a6  01475110779860   2020-09-01 2020-09-02 13:02:00   \n",
       "\n",
       "  country zip_code courier delivery_region delivery_cancelled return_tracking  \\\n",
       "0     GBR   RG64HX  dpd-de          GB-ENG                  f               f   \n",
       "1     DEU    70563  dpd-de           DE-BW                  f               f   \n",
       "2     GBR  RG287FD  dpd-de          GB-ENG                  f               f   \n",
       "3     ITA    46100  dpd-de           IT-25                  f               f   \n",
       "4     ESP    07817  dpd-de           ES-IB                  f               f   \n",
       "\n",
       "  delivery_location       delivery_date pickup_date  Epoch_transit_date  \\\n",
       "0       HomeDeposit 2020-09-04 07:18:00  2020-09-02       1599052740000   \n",
       "1           Unknown 2020-09-02 09:15:00  2020-09-01       1598972040000   \n",
       "2           Unknown 2020-09-04 11:16:00  2020-09-01       1598971560000   \n",
       "3           Unknown 2020-09-04 13:09:00  2020-09-01       1598971980000   \n",
       "4           Unknown 2020-09-08 17:10:00  2020-09-02       1599051720000   \n",
       "\n",
       "   Epoch_created_date  Epoch_delivery_date  Epoch_pickup_date  \n",
       "0       1598918400000        1599203880000      1599004800000  \n",
       "1       1598918400000        1599038100000      1598918400000  \n",
       "2       1598918400000        1599218160000      1598918400000  \n",
       "3       1598918400000        1599224940000      1598918400000  \n",
       "4       1598918400000        1599585000000      1599004800000  "
      ]
     },
     "execution_count": 7,
     "metadata": {},
     "output_type": "execute_result"
    }
   ],
   "source": [
    "data.head()"
   ]
  },
  {
   "cell_type": "code",
   "execution_count": 8,
   "metadata": {},
   "outputs": [
    {
     "name": "stdout",
     "output_type": "stream",
     "text": [
      "<class 'pandas.core.frame.DataFrame'>\n",
      "RangeIndex: 10000 entries, 0 to 9999\n",
      "Data columns (total 17 columns):\n",
      " #   Column               Non-Null Count  Dtype         \n",
      "---  ------               --------------  -----         \n",
      " 0   id                   10000 non-null  object        \n",
      " 1   tracking_number      10000 non-null  object        \n",
      " 2   created_date         10000 non-null  datetime64[ns]\n",
      " 3   in_transit_date      10000 non-null  datetime64[ns]\n",
      " 4   country              9999 non-null   object        \n",
      " 5   zip_code             9999 non-null   object        \n",
      " 6   courier              10000 non-null  object        \n",
      " 7   delivery_region      9999 non-null   object        \n",
      " 8   delivery_cancelled   10000 non-null  object        \n",
      " 9   return_tracking      10000 non-null  object        \n",
      " 10  delivery_location    10000 non-null  object        \n",
      " 11  delivery_date        10000 non-null  datetime64[ns]\n",
      " 12  pickup_date          10000 non-null  datetime64[ns]\n",
      " 13  Epoch_transit_date   10000 non-null  int64         \n",
      " 14  Epoch_created_date   10000 non-null  int64         \n",
      " 15  Epoch_delivery_date  10000 non-null  int64         \n",
      " 16  Epoch_pickup_date    10000 non-null  int64         \n",
      "dtypes: datetime64[ns](4), int64(4), object(9)\n",
      "memory usage: 1.3+ MB\n"
     ]
    }
   ],
   "source": [
    "data.info()"
   ]
  },
  {
   "cell_type": "code",
   "execution_count": 9,
   "metadata": {},
   "outputs": [
    {
     "name": "stdout",
     "output_type": "stream",
     "text": [
      "(10000, 17)\n"
     ]
    },
    {
     "data": {
      "text/plain": [
       "id                     0\n",
       "tracking_number        0\n",
       "created_date           0\n",
       "in_transit_date        0\n",
       "country                1\n",
       "zip_code               1\n",
       "courier                0\n",
       "delivery_region        1\n",
       "delivery_cancelled     0\n",
       "return_tracking        0\n",
       "delivery_location      0\n",
       "delivery_date          0\n",
       "pickup_date            0\n",
       "Epoch_transit_date     0\n",
       "Epoch_created_date     0\n",
       "Epoch_delivery_date    0\n",
       "Epoch_pickup_date      0\n",
       "dtype: int64"
      ]
     },
     "execution_count": 9,
     "metadata": {},
     "output_type": "execute_result"
    }
   ],
   "source": [
    "print(data.shape)\n",
    "data.isnull().sum()"
   ]
  },
  {
   "cell_type": "code",
   "execution_count": 10,
   "metadata": {},
   "outputs": [
    {
     "data": {
      "text/plain": [
       "(9998, 17)"
      ]
     },
     "execution_count": 10,
     "metadata": {},
     "output_type": "execute_result"
    }
   ],
   "source": [
    "data.dropna(inplace=True)\n",
    "data.shape"
   ]
  },
  {
   "cell_type": "code",
   "execution_count": 11,
   "metadata": {},
   "outputs": [
    {
     "data": {
      "text/html": [
       "<div>\n",
       "<style scoped>\n",
       "    .dataframe tbody tr th:only-of-type {\n",
       "        vertical-align: middle;\n",
       "    }\n",
       "\n",
       "    .dataframe tbody tr th {\n",
       "        vertical-align: top;\n",
       "    }\n",
       "\n",
       "    .dataframe thead th {\n",
       "        text-align: right;\n",
       "    }\n",
       "</style>\n",
       "<table border=\"1\" class=\"dataframe\">\n",
       "  <thead>\n",
       "    <tr style=\"text-align: right;\">\n",
       "      <th></th>\n",
       "      <th>created_date</th>\n",
       "      <th>in_transit_date</th>\n",
       "      <th>country</th>\n",
       "      <th>zip_code</th>\n",
       "      <th>courier</th>\n",
       "      <th>delivery_region</th>\n",
       "      <th>delivery_cancelled</th>\n",
       "      <th>return_tracking</th>\n",
       "      <th>delivery_location</th>\n",
       "      <th>delivery_date</th>\n",
       "      <th>pickup_date</th>\n",
       "      <th>Epoch_transit_date</th>\n",
       "      <th>Epoch_created_date</th>\n",
       "      <th>Epoch_delivery_date</th>\n",
       "      <th>Epoch_pickup_date</th>\n",
       "    </tr>\n",
       "  </thead>\n",
       "  <tbody>\n",
       "    <tr>\n",
       "      <th>0</th>\n",
       "      <td>2020-09-01</td>\n",
       "      <td>2020-09-02 13:19:00</td>\n",
       "      <td>GBR</td>\n",
       "      <td>RG64HX</td>\n",
       "      <td>dpd-de</td>\n",
       "      <td>GB-ENG</td>\n",
       "      <td>f</td>\n",
       "      <td>f</td>\n",
       "      <td>HomeDeposit</td>\n",
       "      <td>2020-09-04 07:18:00</td>\n",
       "      <td>2020-09-02</td>\n",
       "      <td>1599052740000</td>\n",
       "      <td>1598918400000</td>\n",
       "      <td>1599203880000</td>\n",
       "      <td>1599004800000</td>\n",
       "    </tr>\n",
       "    <tr>\n",
       "      <th>1</th>\n",
       "      <td>2020-09-01</td>\n",
       "      <td>2020-09-01 14:54:00</td>\n",
       "      <td>DEU</td>\n",
       "      <td>70563</td>\n",
       "      <td>dpd-de</td>\n",
       "      <td>DE-BW</td>\n",
       "      <td>f</td>\n",
       "      <td>f</td>\n",
       "      <td>Unknown</td>\n",
       "      <td>2020-09-02 09:15:00</td>\n",
       "      <td>2020-09-01</td>\n",
       "      <td>1598972040000</td>\n",
       "      <td>1598918400000</td>\n",
       "      <td>1599038100000</td>\n",
       "      <td>1598918400000</td>\n",
       "    </tr>\n",
       "    <tr>\n",
       "      <th>2</th>\n",
       "      <td>2020-09-01</td>\n",
       "      <td>2020-09-01 14:46:00</td>\n",
       "      <td>GBR</td>\n",
       "      <td>RG287FD</td>\n",
       "      <td>dpd-de</td>\n",
       "      <td>GB-ENG</td>\n",
       "      <td>f</td>\n",
       "      <td>f</td>\n",
       "      <td>Unknown</td>\n",
       "      <td>2020-09-04 11:16:00</td>\n",
       "      <td>2020-09-01</td>\n",
       "      <td>1598971560000</td>\n",
       "      <td>1598918400000</td>\n",
       "      <td>1599218160000</td>\n",
       "      <td>1598918400000</td>\n",
       "    </tr>\n",
       "    <tr>\n",
       "      <th>3</th>\n",
       "      <td>2020-09-01</td>\n",
       "      <td>2020-09-01 14:53:00</td>\n",
       "      <td>ITA</td>\n",
       "      <td>46100</td>\n",
       "      <td>dpd-de</td>\n",
       "      <td>IT-25</td>\n",
       "      <td>f</td>\n",
       "      <td>f</td>\n",
       "      <td>Unknown</td>\n",
       "      <td>2020-09-04 13:09:00</td>\n",
       "      <td>2020-09-01</td>\n",
       "      <td>1598971980000</td>\n",
       "      <td>1598918400000</td>\n",
       "      <td>1599224940000</td>\n",
       "      <td>1598918400000</td>\n",
       "    </tr>\n",
       "    <tr>\n",
       "      <th>4</th>\n",
       "      <td>2020-09-01</td>\n",
       "      <td>2020-09-02 13:02:00</td>\n",
       "      <td>ESP</td>\n",
       "      <td>07817</td>\n",
       "      <td>dpd-de</td>\n",
       "      <td>ES-IB</td>\n",
       "      <td>f</td>\n",
       "      <td>f</td>\n",
       "      <td>Unknown</td>\n",
       "      <td>2020-09-08 17:10:00</td>\n",
       "      <td>2020-09-02</td>\n",
       "      <td>1599051720000</td>\n",
       "      <td>1598918400000</td>\n",
       "      <td>1599585000000</td>\n",
       "      <td>1599004800000</td>\n",
       "    </tr>\n",
       "  </tbody>\n",
       "</table>\n",
       "</div>"
      ],
      "text/plain": [
       "  created_date     in_transit_date country zip_code courier delivery_region  \\\n",
       "0   2020-09-01 2020-09-02 13:19:00     GBR   RG64HX  dpd-de          GB-ENG   \n",
       "1   2020-09-01 2020-09-01 14:54:00     DEU    70563  dpd-de           DE-BW   \n",
       "2   2020-09-01 2020-09-01 14:46:00     GBR  RG287FD  dpd-de          GB-ENG   \n",
       "3   2020-09-01 2020-09-01 14:53:00     ITA    46100  dpd-de           IT-25   \n",
       "4   2020-09-01 2020-09-02 13:02:00     ESP    07817  dpd-de           ES-IB   \n",
       "\n",
       "  delivery_cancelled return_tracking delivery_location       delivery_date  \\\n",
       "0                  f               f       HomeDeposit 2020-09-04 07:18:00   \n",
       "1                  f               f           Unknown 2020-09-02 09:15:00   \n",
       "2                  f               f           Unknown 2020-09-04 11:16:00   \n",
       "3                  f               f           Unknown 2020-09-04 13:09:00   \n",
       "4                  f               f           Unknown 2020-09-08 17:10:00   \n",
       "\n",
       "  pickup_date  Epoch_transit_date  Epoch_created_date  Epoch_delivery_date  \\\n",
       "0  2020-09-02       1599052740000       1598918400000        1599203880000   \n",
       "1  2020-09-01       1598972040000       1598918400000        1599038100000   \n",
       "2  2020-09-01       1598971560000       1598918400000        1599218160000   \n",
       "3  2020-09-01       1598971980000       1598918400000        1599224940000   \n",
       "4  2020-09-02       1599051720000       1598918400000        1599585000000   \n",
       "\n",
       "   Epoch_pickup_date  \n",
       "0      1599004800000  \n",
       "1      1598918400000  \n",
       "2      1598918400000  \n",
       "3      1598918400000  \n",
       "4      1599004800000  "
      ]
     },
     "execution_count": 11,
     "metadata": {},
     "output_type": "execute_result"
    }
   ],
   "source": [
    "data.drop(['id', 'tracking_number'], axis=1, inplace=True)\n",
    "data.head()"
   ]
  },
  {
   "cell_type": "code",
   "execution_count": 12,
   "metadata": {},
   "outputs": [
    {
     "data": {
      "text/plain": [
       "array(['GBR', 'DEU', 'ITA', 'ESP', 'AUT', 'IRL', 'FRA', 'SWE', 'NLD',\n",
       "       'PRT', 'BEL', 'DNK', 'FIN', 'USA', 'CHE', 'KOR', 'LUX', 'CAN',\n",
       "       'CZE', 'SVN', 'BGR', 'SAU', 'EST', 'GLP', 'AUS', 'HUN', 'POL',\n",
       "       'SVK'], dtype=object)"
      ]
     },
     "execution_count": 12,
     "metadata": {},
     "output_type": "execute_result"
    }
   ],
   "source": [
    "data[\"country\"].unique()"
   ]
  },
  {
   "cell_type": "code",
   "execution_count": 13,
   "metadata": {},
   "outputs": [
    {
     "data": {
      "text/plain": [
       "array(['GB-ENG', 'DE-BW', 'IT-25', 'ES-IB', 'DE-NW', 'ES-MD', 'AT-4',\n",
       "       'DE-BB', 'DE-BY', 'ES-CT', 'DE-NI', 'IT-34', 'IE', 'DE-RP',\n",
       "       'DE-TH', 'ES-VC', 'DE-SN', 'FR-V', 'SE', 'DE-SH', 'DE-HE', 'FR-T',\n",
       "       'FR-R', 'NL-FR', 'DE-BE', 'PT', 'FR-F', 'FR-S', 'ES-AN', 'DE-ST',\n",
       "       'FR-P', 'BE-VLG', 'DK', 'AT-6', 'NL-FL', 'DE-MV', 'FR-J', 'BE-WAL',\n",
       "       'IT-72', 'DE-HH', 'AT-3', 'FR-N', 'GB-SCT', 'DE-SL', 'FR-I',\n",
       "       'NL-UT', 'FI', 'FR-M', 'FR-U', 'US', 'CH-TG', 'FR-Q', 'FR-K',\n",
       "       'FR-H', 'FR-G', 'AT-9', 'KR', 'AT-7', 'DE-HB', 'NL-ZH', 'FR-A',\n",
       "       'FR-E', 'ES-PV', 'AT-5', 'ES-NC', 'NL-LI', 'NL-GE', 'GB', 'IT-82',\n",
       "       'AT-2', 'NL-ZE', 'LU', 'CA', 'ES-GA', 'GB-PA', 'ES-EX', 'NL-NH',\n",
       "       'NL-OV', 'BE-BRU', 'FR-O', 'FR-B', 'ES-CN', 'CZ', 'FR-D', 'FR-C',\n",
       "       'IT-45', 'IT-52', 'IT-75', 'FR-L', 'GB-WLS', 'ES-AS', 'GB-NIR',\n",
       "       'NL-NB', 'NL-GR', 'CH-FR', 'CH-JU', 'CH-BE', 'CH-GR', 'CH-SG',\n",
       "       'CH-TI', 'IT-32', 'SI', 'IT-21', 'CH-GE', 'CH-ZH', 'CH-OW',\n",
       "       'IT-88', 'IT-36', 'ES-AR', 'AT-1', 'ES-CL', 'ES-CM', 'IT-57',\n",
       "       'IT-62', 'CH-VD', 'US-CA', 'CH-ZG', 'IT-77', 'IT', 'CH-SO',\n",
       "       'CH-VS', 'CH-LU', 'CH-BL', 'CH-SZ', 'CH-AG', 'ES-MC', 'ES',\n",
       "       'IT-42', 'IT-78', 'BG', 'CH', 'SA', 'EE', 'GP', 'AU', 'GB-HE',\n",
       "       'HU', 'US-PA', 'ES-CB', 'CH-NE', 'CH-AR', 'CH-BS', 'IT-23',\n",
       "       'ES-RI', 'BE', 'NL-DR', 'IT-65', 'CH-GL', 'PL', 'DE', 'NL',\n",
       "       'IT-55', 'SK', 'AT', 'CH-NW', 'US-KS'], dtype=object)"
      ]
     },
     "execution_count": 13,
     "metadata": {},
     "output_type": "execute_result"
    }
   ],
   "source": [
    "data[\"delivery_region\"].unique()"
   ]
  },
  {
   "cell_type": "code",
   "execution_count": 14,
   "metadata": {},
   "outputs": [
    {
     "data": {
      "text/html": [
       "<div>\n",
       "<style scoped>\n",
       "    .dataframe tbody tr th:only-of-type {\n",
       "        vertical-align: middle;\n",
       "    }\n",
       "\n",
       "    .dataframe tbody tr th {\n",
       "        vertical-align: top;\n",
       "    }\n",
       "\n",
       "    .dataframe thead th {\n",
       "        text-align: right;\n",
       "    }\n",
       "</style>\n",
       "<table border=\"1\" class=\"dataframe\">\n",
       "  <thead>\n",
       "    <tr style=\"text-align: right;\">\n",
       "      <th></th>\n",
       "      <th>created_date</th>\n",
       "      <th>in_transit_date</th>\n",
       "      <th>country</th>\n",
       "      <th>zip_code</th>\n",
       "      <th>courier</th>\n",
       "      <th>delivery_region</th>\n",
       "      <th>delivery_cancelled</th>\n",
       "      <th>return_tracking</th>\n",
       "      <th>delivery_location</th>\n",
       "      <th>delivery_date</th>\n",
       "      <th>pickup_date</th>\n",
       "      <th>Epoch_transit_date</th>\n",
       "      <th>Epoch_created_date</th>\n",
       "      <th>Epoch_delivery_date</th>\n",
       "      <th>Epoch_pickup_date</th>\n",
       "      <th>time_taken</th>\n",
       "    </tr>\n",
       "  </thead>\n",
       "  <tbody>\n",
       "    <tr>\n",
       "      <th>0</th>\n",
       "      <td>2020-09-01</td>\n",
       "      <td>2020-09-02 13:19:00</td>\n",
       "      <td>GBR</td>\n",
       "      <td>RG64HX</td>\n",
       "      <td>dpd-de</td>\n",
       "      <td>GB-ENG</td>\n",
       "      <td>f</td>\n",
       "      <td>f</td>\n",
       "      <td>HomeDeposit</td>\n",
       "      <td>2020-09-04 07:18:00</td>\n",
       "      <td>2020-09-02</td>\n",
       "      <td>1599052740000</td>\n",
       "      <td>1598918400000</td>\n",
       "      <td>1599203880000</td>\n",
       "      <td>1599004800000</td>\n",
       "      <td>1 days 17:59:00</td>\n",
       "    </tr>\n",
       "    <tr>\n",
       "      <th>1</th>\n",
       "      <td>2020-09-01</td>\n",
       "      <td>2020-09-01 14:54:00</td>\n",
       "      <td>DEU</td>\n",
       "      <td>70563</td>\n",
       "      <td>dpd-de</td>\n",
       "      <td>DE-BW</td>\n",
       "      <td>f</td>\n",
       "      <td>f</td>\n",
       "      <td>Unknown</td>\n",
       "      <td>2020-09-02 09:15:00</td>\n",
       "      <td>2020-09-01</td>\n",
       "      <td>1598972040000</td>\n",
       "      <td>1598918400000</td>\n",
       "      <td>1599038100000</td>\n",
       "      <td>1598918400000</td>\n",
       "      <td>0 days 18:21:00</td>\n",
       "    </tr>\n",
       "    <tr>\n",
       "      <th>2</th>\n",
       "      <td>2020-09-01</td>\n",
       "      <td>2020-09-01 14:46:00</td>\n",
       "      <td>GBR</td>\n",
       "      <td>RG287FD</td>\n",
       "      <td>dpd-de</td>\n",
       "      <td>GB-ENG</td>\n",
       "      <td>f</td>\n",
       "      <td>f</td>\n",
       "      <td>Unknown</td>\n",
       "      <td>2020-09-04 11:16:00</td>\n",
       "      <td>2020-09-01</td>\n",
       "      <td>1598971560000</td>\n",
       "      <td>1598918400000</td>\n",
       "      <td>1599218160000</td>\n",
       "      <td>1598918400000</td>\n",
       "      <td>2 days 20:30:00</td>\n",
       "    </tr>\n",
       "    <tr>\n",
       "      <th>3</th>\n",
       "      <td>2020-09-01</td>\n",
       "      <td>2020-09-01 14:53:00</td>\n",
       "      <td>ITA</td>\n",
       "      <td>46100</td>\n",
       "      <td>dpd-de</td>\n",
       "      <td>IT-25</td>\n",
       "      <td>f</td>\n",
       "      <td>f</td>\n",
       "      <td>Unknown</td>\n",
       "      <td>2020-09-04 13:09:00</td>\n",
       "      <td>2020-09-01</td>\n",
       "      <td>1598971980000</td>\n",
       "      <td>1598918400000</td>\n",
       "      <td>1599224940000</td>\n",
       "      <td>1598918400000</td>\n",
       "      <td>2 days 22:16:00</td>\n",
       "    </tr>\n",
       "    <tr>\n",
       "      <th>4</th>\n",
       "      <td>2020-09-01</td>\n",
       "      <td>2020-09-02 13:02:00</td>\n",
       "      <td>ESP</td>\n",
       "      <td>07817</td>\n",
       "      <td>dpd-de</td>\n",
       "      <td>ES-IB</td>\n",
       "      <td>f</td>\n",
       "      <td>f</td>\n",
       "      <td>Unknown</td>\n",
       "      <td>2020-09-08 17:10:00</td>\n",
       "      <td>2020-09-02</td>\n",
       "      <td>1599051720000</td>\n",
       "      <td>1598918400000</td>\n",
       "      <td>1599585000000</td>\n",
       "      <td>1599004800000</td>\n",
       "      <td>6 days 04:08:00</td>\n",
       "    </tr>\n",
       "  </tbody>\n",
       "</table>\n",
       "</div>"
      ],
      "text/plain": [
       "  created_date     in_transit_date country zip_code courier delivery_region  \\\n",
       "0   2020-09-01 2020-09-02 13:19:00     GBR   RG64HX  dpd-de          GB-ENG   \n",
       "1   2020-09-01 2020-09-01 14:54:00     DEU    70563  dpd-de           DE-BW   \n",
       "2   2020-09-01 2020-09-01 14:46:00     GBR  RG287FD  dpd-de          GB-ENG   \n",
       "3   2020-09-01 2020-09-01 14:53:00     ITA    46100  dpd-de           IT-25   \n",
       "4   2020-09-01 2020-09-02 13:02:00     ESP    07817  dpd-de           ES-IB   \n",
       "\n",
       "  delivery_cancelled return_tracking delivery_location       delivery_date  \\\n",
       "0                  f               f       HomeDeposit 2020-09-04 07:18:00   \n",
       "1                  f               f           Unknown 2020-09-02 09:15:00   \n",
       "2                  f               f           Unknown 2020-09-04 11:16:00   \n",
       "3                  f               f           Unknown 2020-09-04 13:09:00   \n",
       "4                  f               f           Unknown 2020-09-08 17:10:00   \n",
       "\n",
       "  pickup_date  Epoch_transit_date  Epoch_created_date  Epoch_delivery_date  \\\n",
       "0  2020-09-02       1599052740000       1598918400000        1599203880000   \n",
       "1  2020-09-01       1598972040000       1598918400000        1599038100000   \n",
       "2  2020-09-01       1598971560000       1598918400000        1599218160000   \n",
       "3  2020-09-01       1598971980000       1598918400000        1599224940000   \n",
       "4  2020-09-02       1599051720000       1598918400000        1599585000000   \n",
       "\n",
       "   Epoch_pickup_date      time_taken  \n",
       "0      1599004800000 1 days 17:59:00  \n",
       "1      1598918400000 0 days 18:21:00  \n",
       "2      1598918400000 2 days 20:30:00  \n",
       "3      1598918400000 2 days 22:16:00  \n",
       "4      1599004800000 6 days 04:08:00  "
      ]
     },
     "execution_count": 14,
     "metadata": {},
     "output_type": "execute_result"
    }
   ],
   "source": [
    "#creating a variable that distingishes the number of days and hours between time in transit to delivery\n",
    "data['time_taken'] = (data.delivery_date - data.in_transit_date)\n",
    "data.head()"
   ]
  },
  {
   "cell_type": "code",
   "execution_count": 15,
   "metadata": {},
   "outputs": [
    {
     "name": "stdout",
     "output_type": "stream",
     "text": [
      "Average time to make a delivery across all delievry vendors: 2 days 06:25:43.517953\n"
     ]
    }
   ],
   "source": [
    "# Average time to get a delivery from transit to customer across all couriers\n",
    "print(\"Average time to make a delivery across all delievry vendors:\", data[\"time_taken\"].mean())"
   ]
  },
  {
   "cell_type": "markdown",
   "metadata": {},
   "source": [
    "### Analysing average time for individual couriers, as well as average time taken to deliver to each region"
   ]
  },
  {
   "cell_type": "code",
   "execution_count": 16,
   "metadata": {},
   "outputs": [
    {
     "data": {
      "text/html": [
       "<div>\n",
       "<style scoped>\n",
       "    .dataframe tbody tr th:only-of-type {\n",
       "        vertical-align: middle;\n",
       "    }\n",
       "\n",
       "    .dataframe tbody tr th {\n",
       "        vertical-align: top;\n",
       "    }\n",
       "\n",
       "    .dataframe thead tr th {\n",
       "        text-align: left;\n",
       "    }\n",
       "\n",
       "    .dataframe thead tr:last-of-type th {\n",
       "        text-align: right;\n",
       "    }\n",
       "</style>\n",
       "<table border=\"1\" class=\"dataframe\">\n",
       "  <thead>\n",
       "    <tr>\n",
       "      <th></th>\n",
       "      <th colspan=\"8\" halign=\"left\">time_taken</th>\n",
       "    </tr>\n",
       "    <tr>\n",
       "      <th></th>\n",
       "      <th>count</th>\n",
       "      <th>mean</th>\n",
       "      <th>std</th>\n",
       "      <th>min</th>\n",
       "      <th>25%</th>\n",
       "      <th>50%</th>\n",
       "      <th>75%</th>\n",
       "      <th>max</th>\n",
       "    </tr>\n",
       "    <tr>\n",
       "      <th>courier</th>\n",
       "      <th></th>\n",
       "      <th></th>\n",
       "      <th></th>\n",
       "      <th></th>\n",
       "      <th></th>\n",
       "      <th></th>\n",
       "      <th></th>\n",
       "      <th></th>\n",
       "    </tr>\n",
       "  </thead>\n",
       "  <tbody>\n",
       "    <tr>\n",
       "      <th>dhl-germany</th>\n",
       "      <td>2765</td>\n",
       "      <td>1 days 16:06:51.081374</td>\n",
       "      <td>1 days 21:52:15.476858</td>\n",
       "      <td>05:14:00</td>\n",
       "      <td>0 days 19:12:00</td>\n",
       "      <td>0 days 21:53:00</td>\n",
       "      <td>1 days 19:16:00</td>\n",
       "      <td>28 days 13:05:00</td>\n",
       "    </tr>\n",
       "    <tr>\n",
       "      <th>dpd-de</th>\n",
       "      <td>6204</td>\n",
       "      <td>2 days 06:56:08.989765</td>\n",
       "      <td>2 days 01:14:21.569311</td>\n",
       "      <td>11:58:00</td>\n",
       "      <td>0 days 22:43:45</td>\n",
       "      <td>1 days 21:07:30</td>\n",
       "      <td>2 days 22:24:00</td>\n",
       "      <td>44 days 18:44:59</td>\n",
       "    </tr>\n",
       "    <tr>\n",
       "      <th>ups</th>\n",
       "      <td>1029</td>\n",
       "      <td>3 days 17:50:08.979591</td>\n",
       "      <td>1 days 22:23:18.343907</td>\n",
       "      <td>12:49:00</td>\n",
       "      <td>2 days 01:09:00</td>\n",
       "      <td>3 days 18:22:00</td>\n",
       "      <td>4 days 21:36:00</td>\n",
       "      <td>18 days 05:11:00</td>\n",
       "    </tr>\n",
       "  </tbody>\n",
       "</table>\n",
       "</div>"
      ],
      "text/plain": [
       "            time_taken                                                         \\\n",
       "                 count                   mean                    std      min   \n",
       "courier                                                                         \n",
       "dhl-germany       2765 1 days 16:06:51.081374 1 days 21:52:15.476858 05:14:00   \n",
       "dpd-de            6204 2 days 06:56:08.989765 2 days 01:14:21.569311 11:58:00   \n",
       "ups               1029 3 days 17:50:08.979591 1 days 22:23:18.343907 12:49:00   \n",
       "\n",
       "                                                                              \n",
       "                        25%             50%             75%              max  \n",
       "courier                                                                       \n",
       "dhl-germany 0 days 19:12:00 0 days 21:53:00 1 days 19:16:00 28 days 13:05:00  \n",
       "dpd-de      0 days 22:43:45 1 days 21:07:30 2 days 22:24:00 44 days 18:44:59  \n",
       "ups         2 days 01:09:00 3 days 18:22:00 4 days 21:36:00 18 days 05:11:00  "
      ]
     },
     "execution_count": 16,
     "metadata": {},
     "output_type": "execute_result"
    }
   ],
   "source": [
    "courier_time = data.groupby(\"courier\")\n",
    "courier_time[['time_taken']].describe()"
   ]
  },
  {
   "cell_type": "code",
   "execution_count": 17,
   "metadata": {},
   "outputs": [
    {
     "data": {
      "text/html": [
       "<div>\n",
       "<style scoped>\n",
       "    .dataframe tbody tr th:only-of-type {\n",
       "        vertical-align: middle;\n",
       "    }\n",
       "\n",
       "    .dataframe tbody tr th {\n",
       "        vertical-align: top;\n",
       "    }\n",
       "\n",
       "    .dataframe thead tr th {\n",
       "        text-align: left;\n",
       "    }\n",
       "\n",
       "    .dataframe thead tr:last-of-type th {\n",
       "        text-align: right;\n",
       "    }\n",
       "</style>\n",
       "<table border=\"1\" class=\"dataframe\">\n",
       "  <thead>\n",
       "    <tr>\n",
       "      <th></th>\n",
       "      <th colspan=\"8\" halign=\"left\">time_taken</th>\n",
       "    </tr>\n",
       "    <tr>\n",
       "      <th></th>\n",
       "      <th>count</th>\n",
       "      <th>mean</th>\n",
       "      <th>std</th>\n",
       "      <th>min</th>\n",
       "      <th>25%</th>\n",
       "      <th>50%</th>\n",
       "      <th>75%</th>\n",
       "      <th>max</th>\n",
       "    </tr>\n",
       "    <tr>\n",
       "      <th>delivery_region</th>\n",
       "      <th></th>\n",
       "      <th></th>\n",
       "      <th></th>\n",
       "      <th></th>\n",
       "      <th></th>\n",
       "      <th></th>\n",
       "      <th></th>\n",
       "      <th></th>\n",
       "    </tr>\n",
       "  </thead>\n",
       "  <tbody>\n",
       "    <tr>\n",
       "      <th>AT</th>\n",
       "      <td>1</td>\n",
       "      <td>1 days 20:22:00</td>\n",
       "      <td>NaT</td>\n",
       "      <td>1 days 20:22:00</td>\n",
       "      <td>1 days 20:22:00</td>\n",
       "      <td>1 days 20:22:00</td>\n",
       "      <td>1 days 20:22:00</td>\n",
       "      <td>1 days 20:22:00</td>\n",
       "    </tr>\n",
       "    <tr>\n",
       "      <th>AT-1</th>\n",
       "      <td>9</td>\n",
       "      <td>3 days 23:16:13.333333</td>\n",
       "      <td>1 days 10:33:04.550487</td>\n",
       "      <td>1 days 22:36:00</td>\n",
       "      <td>3 days 16:05:00</td>\n",
       "      <td>3 days 20:02:00</td>\n",
       "      <td>4 days 12:27:00</td>\n",
       "      <td>6 days 17:29:00</td>\n",
       "    </tr>\n",
       "    <tr>\n",
       "      <th>AT-2</th>\n",
       "      <td>38</td>\n",
       "      <td>3 days 02:33:48.947368</td>\n",
       "      <td>1 days 13:43:57.236521</td>\n",
       "      <td>0 days 20:22:00</td>\n",
       "      <td>1 days 22:20:45</td>\n",
       "      <td>2 days 11:43:30</td>\n",
       "      <td>3 days 22:18:00</td>\n",
       "      <td>6 days 19:13:00</td>\n",
       "    </tr>\n",
       "    <tr>\n",
       "      <th>AT-3</th>\n",
       "      <td>91</td>\n",
       "      <td>3 days 01:35:14.802197</td>\n",
       "      <td>1 days 07:38:50.185775</td>\n",
       "      <td>0 days 15:36:00</td>\n",
       "      <td>1 days 23:03:00</td>\n",
       "      <td>2 days 22:56:00</td>\n",
       "      <td>3 days 21:32:30</td>\n",
       "      <td>7 days 15:30:00</td>\n",
       "    </tr>\n",
       "    <tr>\n",
       "      <th>AT-4</th>\n",
       "      <td>61</td>\n",
       "      <td>3 days 09:20:33.540983</td>\n",
       "      <td>1 days 01:24:24.464755</td>\n",
       "      <td>0 days 12:51:00</td>\n",
       "      <td>2 days 04:26:00</td>\n",
       "      <td>3 days 18:51:00</td>\n",
       "      <td>3 days 23:29:00</td>\n",
       "      <td>6 days 01:54:00</td>\n",
       "    </tr>\n",
       "    <tr>\n",
       "      <th>...</th>\n",
       "      <td>...</td>\n",
       "      <td>...</td>\n",
       "      <td>...</td>\n",
       "      <td>...</td>\n",
       "      <td>...</td>\n",
       "      <td>...</td>\n",
       "      <td>...</td>\n",
       "      <td>...</td>\n",
       "    </tr>\n",
       "    <tr>\n",
       "      <th>SK</th>\n",
       "      <td>1</td>\n",
       "      <td>1 days 18:43:00</td>\n",
       "      <td>NaT</td>\n",
       "      <td>1 days 18:43:00</td>\n",
       "      <td>1 days 18:43:00</td>\n",
       "      <td>1 days 18:43:00</td>\n",
       "      <td>1 days 18:43:00</td>\n",
       "      <td>1 days 18:43:00</td>\n",
       "    </tr>\n",
       "    <tr>\n",
       "      <th>US</th>\n",
       "      <td>11</td>\n",
       "      <td>2 days 03:04:54.545454</td>\n",
       "      <td>1 days 01:34:32.702617</td>\n",
       "      <td>0 days 18:38:00</td>\n",
       "      <td>1 days 06:45:00</td>\n",
       "      <td>1 days 22:51:00</td>\n",
       "      <td>2 days 21:49:30</td>\n",
       "      <td>4 days 02:24:00</td>\n",
       "    </tr>\n",
       "    <tr>\n",
       "      <th>US-CA</th>\n",
       "      <td>1</td>\n",
       "      <td>1 days 20:32:00</td>\n",
       "      <td>NaT</td>\n",
       "      <td>1 days 20:32:00</td>\n",
       "      <td>1 days 20:32:00</td>\n",
       "      <td>1 days 20:32:00</td>\n",
       "      <td>1 days 20:32:00</td>\n",
       "      <td>1 days 20:32:00</td>\n",
       "    </tr>\n",
       "    <tr>\n",
       "      <th>US-KS</th>\n",
       "      <td>1</td>\n",
       "      <td>1 days 00:25:00</td>\n",
       "      <td>NaT</td>\n",
       "      <td>1 days 00:25:00</td>\n",
       "      <td>1 days 00:25:00</td>\n",
       "      <td>1 days 00:25:00</td>\n",
       "      <td>1 days 00:25:00</td>\n",
       "      <td>1 days 00:25:00</td>\n",
       "    </tr>\n",
       "    <tr>\n",
       "      <th>US-PA</th>\n",
       "      <td>2</td>\n",
       "      <td>3 days 18:24:30</td>\n",
       "      <td>0 days 00:02:07.279220</td>\n",
       "      <td>3 days 18:23:00</td>\n",
       "      <td>3 days 18:23:45</td>\n",
       "      <td>3 days 18:24:30</td>\n",
       "      <td>3 days 18:25:15</td>\n",
       "      <td>3 days 18:26:00</td>\n",
       "    </tr>\n",
       "  </tbody>\n",
       "</table>\n",
       "<p>156 rows × 8 columns</p>\n",
       "</div>"
      ],
      "text/plain": [
       "                time_taken                                                \\\n",
       "                     count                   mean                    std   \n",
       "delivery_region                                                            \n",
       "AT                       1        1 days 20:22:00                    NaT   \n",
       "AT-1                     9 3 days 23:16:13.333333 1 days 10:33:04.550487   \n",
       "AT-2                    38 3 days 02:33:48.947368 1 days 13:43:57.236521   \n",
       "AT-3                    91 3 days 01:35:14.802197 1 days 07:38:50.185775   \n",
       "AT-4                    61 3 days 09:20:33.540983 1 days 01:24:24.464755   \n",
       "...                    ...                    ...                    ...   \n",
       "SK                       1        1 days 18:43:00                    NaT   \n",
       "US                      11 2 days 03:04:54.545454 1 days 01:34:32.702617   \n",
       "US-CA                    1        1 days 20:32:00                    NaT   \n",
       "US-KS                    1        1 days 00:25:00                    NaT   \n",
       "US-PA                    2        3 days 18:24:30 0 days 00:02:07.279220   \n",
       "\n",
       "                                                                 \\\n",
       "                            min             25%             50%   \n",
       "delivery_region                                                   \n",
       "AT              1 days 20:22:00 1 days 20:22:00 1 days 20:22:00   \n",
       "AT-1            1 days 22:36:00 3 days 16:05:00 3 days 20:02:00   \n",
       "AT-2            0 days 20:22:00 1 days 22:20:45 2 days 11:43:30   \n",
       "AT-3            0 days 15:36:00 1 days 23:03:00 2 days 22:56:00   \n",
       "AT-4            0 days 12:51:00 2 days 04:26:00 3 days 18:51:00   \n",
       "...                         ...             ...             ...   \n",
       "SK              1 days 18:43:00 1 days 18:43:00 1 days 18:43:00   \n",
       "US              0 days 18:38:00 1 days 06:45:00 1 days 22:51:00   \n",
       "US-CA           1 days 20:32:00 1 days 20:32:00 1 days 20:32:00   \n",
       "US-KS           1 days 00:25:00 1 days 00:25:00 1 days 00:25:00   \n",
       "US-PA           3 days 18:23:00 3 days 18:23:45 3 days 18:24:30   \n",
       "\n",
       "                                                 \n",
       "                            75%             max  \n",
       "delivery_region                                  \n",
       "AT              1 days 20:22:00 1 days 20:22:00  \n",
       "AT-1            4 days 12:27:00 6 days 17:29:00  \n",
       "AT-2            3 days 22:18:00 6 days 19:13:00  \n",
       "AT-3            3 days 21:32:30 7 days 15:30:00  \n",
       "AT-4            3 days 23:29:00 6 days 01:54:00  \n",
       "...                         ...             ...  \n",
       "SK              1 days 18:43:00 1 days 18:43:00  \n",
       "US              2 days 21:49:30 4 days 02:24:00  \n",
       "US-CA           1 days 20:32:00 1 days 20:32:00  \n",
       "US-KS           1 days 00:25:00 1 days 00:25:00  \n",
       "US-PA           3 days 18:25:15 3 days 18:26:00  \n",
       "\n",
       "[156 rows x 8 columns]"
      ]
     },
     "execution_count": 17,
     "metadata": {},
     "output_type": "execute_result"
    }
   ],
   "source": [
    "avgTime_region = data.groupby(\"delivery_region\")\n",
    "avgTime_region[['time_taken']].describe()"
   ]
  },
  {
   "cell_type": "code",
   "execution_count": 18,
   "metadata": {},
   "outputs": [
    {
     "data": {
      "text/plain": [
       "Text(0.5, 1.0, 'The number of deliveries each courier carries out in the data')"
      ]
     },
     "execution_count": 18,
     "metadata": {},
     "output_type": "execute_result"
    },
    {
     "data": {
      "image/png": "[encoded data removed]",
      "text/plain": [
       "<Figure size 432x288 with 1 Axes>"
      ]
     },
     "metadata": {
      "needs_background": "light"
     },
     "output_type": "display_data"
    }
   ],
   "source": [
    "# observing the frequency of deliveries by each courier\n",
    "sns.countplot(data= data, x=\"courier\", palette=\"ch:.25\")\n",
    "plt.title(\"The number of deliveries each courier carries out in the data\")"
   ]
  },
  {
   "cell_type": "code",
   "execution_count": 19,
   "metadata": {},
   "outputs": [],
   "source": [
    "#creating a seperare data set that will be used for dashboarding\n",
    "csv = data.copy()\n",
    "csv.drop(['Epoch_created_date', 'Epoch_pickup_date', 'Epoch_delivery_date', 'Epoch_transit_date'], axis=1, inplace=True)"
   ]
  },
  {
   "cell_type": "code",
   "execution_count": 20,
   "metadata": {},
   "outputs": [
    {
     "name": "stderr",
     "output_type": "stream",
     "text": [
      "b'Skipping line 27: expected 6 fields, saw 7\\nSkipping line 53: expected 6 fields, saw 7\\nSkipping line 106: expected 6 fields, saw 7\\nSkipping line 119: expected 6 fields, saw 7\\nSkipping line 120: expected 6 fields, saw 7\\nSkipping line 135: expected 6 fields, saw 7\\nSkipping line 148: expected 6 fields, saw 7\\nSkipping line 149: expected 6 fields, saw 7\\nSkipping line 175: expected 6 fields, saw 7\\nSkipping line 191: expected 6 fields, saw 7\\nSkipping line 222: expected 6 fields, saw 7\\nSkipping line 225: expected 6 fields, saw 7\\nSkipping line 247: expected 6 fields, saw 7\\nSkipping line 251: expected 6 fields, saw 7\\nSkipping line 252: expected 6 fields, saw 7\\n'\n"
     ]
    }
   ],
   "source": [
    "codes = pd.read_csv('codes.csv', error_bad_lines=False)"
   ]
  },
  {
   "cell_type": "code",
   "execution_count": 21,
   "metadata": {},
   "outputs": [
    {
     "data": {
      "text/html": [
       "<div>\n",
       "<style scoped>\n",
       "    .dataframe tbody tr th:only-of-type {\n",
       "        vertical-align: middle;\n",
       "    }\n",
       "\n",
       "    .dataframe tbody tr th {\n",
       "        vertical-align: top;\n",
       "    }\n",
       "\n",
       "    .dataframe thead th {\n",
       "        text-align: right;\n",
       "    }\n",
       "</style>\n",
       "<table border=\"1\" class=\"dataframe\">\n",
       "  <thead>\n",
       "    <tr style=\"text-align: right;\">\n",
       "      <th></th>\n",
       "      <th>Country</th>\n",
       "      <th>Alpha-2 code</th>\n",
       "      <th>Alpha-3 code</th>\n",
       "      <th>Numeric code</th>\n",
       "      <th>Latitude (average)</th>\n",
       "      <th>Longitude (average)</th>\n",
       "    </tr>\n",
       "  </thead>\n",
       "  <tbody>\n",
       "    <tr>\n",
       "      <th>0</th>\n",
       "      <td>Afghanistan</td>\n",
       "      <td>AF</td>\n",
       "      <td>AFG</td>\n",
       "      <td>4</td>\n",
       "      <td>33.0000</td>\n",
       "      <td>65.0</td>\n",
       "    </tr>\n",
       "    <tr>\n",
       "      <th>1</th>\n",
       "      <td>Albania</td>\n",
       "      <td>AL</td>\n",
       "      <td>ALB</td>\n",
       "      <td>8</td>\n",
       "      <td>41.0000</td>\n",
       "      <td>20.0</td>\n",
       "    </tr>\n",
       "    <tr>\n",
       "      <th>2</th>\n",
       "      <td>Algeria</td>\n",
       "      <td>DZ</td>\n",
       "      <td>DZA</td>\n",
       "      <td>12</td>\n",
       "      <td>28.0000</td>\n",
       "      <td>3.0</td>\n",
       "    </tr>\n",
       "    <tr>\n",
       "      <th>3</th>\n",
       "      <td>American Samoa</td>\n",
       "      <td>AS</td>\n",
       "      <td>ASM</td>\n",
       "      <td>16</td>\n",
       "      <td>-14.3333</td>\n",
       "      <td>-170.0</td>\n",
       "    </tr>\n",
       "    <tr>\n",
       "      <th>4</th>\n",
       "      <td>Andorra</td>\n",
       "      <td>AD</td>\n",
       "      <td>AND</td>\n",
       "      <td>20</td>\n",
       "      <td>42.5000</td>\n",
       "      <td>1.6</td>\n",
       "    </tr>\n",
       "  </tbody>\n",
       "</table>\n",
       "</div>"
      ],
      "text/plain": [
       "          Country Alpha-2 code Alpha-3 code  Numeric code  Latitude (average)  \\\n",
       "0     Afghanistan           AF          AFG             4             33.0000   \n",
       "1         Albania           AL          ALB             8             41.0000   \n",
       "2         Algeria           DZ          DZA            12             28.0000   \n",
       "3  American Samoa           AS          ASM            16            -14.3333   \n",
       "4         Andorra           AD          AND            20             42.5000   \n",
       "\n",
       "   Longitude (average)  \n",
       "0                 65.0  \n",
       "1                 20.0  \n",
       "2                  3.0  \n",
       "3               -170.0  \n",
       "4                  1.6  "
      ]
     },
     "execution_count": 21,
     "metadata": {},
     "output_type": "execute_result"
    }
   ],
   "source": [
    "codes.head()"
   ]
  },
  {
   "cell_type": "code",
   "execution_count": 22,
   "metadata": {},
   "outputs": [
    {
     "name": "stdout",
     "output_type": "stream",
     "text": [
      "<class 'pandas.core.frame.DataFrame'>\n",
      "RangeIndex: 241 entries, 0 to 240\n",
      "Data columns (total 6 columns):\n",
      " #   Column               Non-Null Count  Dtype  \n",
      "---  ------               --------------  -----  \n",
      " 0   Country              241 non-null    object \n",
      " 1   Alpha-2 code         240 non-null    object \n",
      " 2   Alpha-3 code         241 non-null    object \n",
      " 3   Numeric code         241 non-null    int64  \n",
      " 4   Latitude (average)   241 non-null    float64\n",
      " 5   Longitude (average)  241 non-null    float64\n",
      "dtypes: float64(2), int64(1), object(3)\n",
      "memory usage: 11.4+ KB\n"
     ]
    }
   ],
   "source": [
    "codes.info()"
   ]
  },
  {
   "cell_type": "code",
   "execution_count": 23,
   "metadata": {},
   "outputs": [],
   "source": [
    "test = pd.merge(csv,codes,left_on='country',right_on='Alpha-3 code')"
   ]
  },
  {
   "cell_type": "code",
   "execution_count": 24,
   "metadata": {},
   "outputs": [
    {
     "data": {
      "text/html": [
       "<div>\n",
       "<style scoped>\n",
       "    .dataframe tbody tr th:only-of-type {\n",
       "        vertical-align: middle;\n",
       "    }\n",
       "\n",
       "    .dataframe tbody tr th {\n",
       "        vertical-align: top;\n",
       "    }\n",
       "\n",
       "    .dataframe thead th {\n",
       "        text-align: right;\n",
       "    }\n",
       "</style>\n",
       "<table border=\"1\" class=\"dataframe\">\n",
       "  <thead>\n",
       "    <tr style=\"text-align: right;\">\n",
       "      <th></th>\n",
       "      <th>created_date</th>\n",
       "      <th>in_transit_date</th>\n",
       "      <th>country</th>\n",
       "      <th>zip_code</th>\n",
       "      <th>courier</th>\n",
       "      <th>delivery_region</th>\n",
       "      <th>delivery_cancelled</th>\n",
       "      <th>return_tracking</th>\n",
       "      <th>delivery_location</th>\n",
       "      <th>delivery_date</th>\n",
       "      <th>pickup_date</th>\n",
       "      <th>time_taken</th>\n",
       "      <th>Country</th>\n",
       "      <th>Alpha-2 code</th>\n",
       "      <th>Alpha-3 code</th>\n",
       "      <th>Numeric code</th>\n",
       "      <th>Latitude (average)</th>\n",
       "      <th>Longitude (average)</th>\n",
       "    </tr>\n",
       "  </thead>\n",
       "  <tbody>\n",
       "    <tr>\n",
       "      <th>0</th>\n",
       "      <td>2020-09-01</td>\n",
       "      <td>2020-09-02 13:19:00</td>\n",
       "      <td>GBR</td>\n",
       "      <td>RG64HX</td>\n",
       "      <td>dpd-de</td>\n",
       "      <td>GB-ENG</td>\n",
       "      <td>f</td>\n",
       "      <td>f</td>\n",
       "      <td>HomeDeposit</td>\n",
       "      <td>2020-09-04 07:18:00</td>\n",
       "      <td>2020-09-02 00:00:00</td>\n",
       "      <td>1 days 17:59:00</td>\n",
       "      <td>United Kingdom</td>\n",
       "      <td>GB</td>\n",
       "      <td>GBR</td>\n",
       "      <td>826</td>\n",
       "      <td>54.0</td>\n",
       "      <td>-2.0</td>\n",
       "    </tr>\n",
       "    <tr>\n",
       "      <th>1</th>\n",
       "      <td>2020-09-01</td>\n",
       "      <td>2020-09-01 14:46:00</td>\n",
       "      <td>GBR</td>\n",
       "      <td>RG287FD</td>\n",
       "      <td>dpd-de</td>\n",
       "      <td>GB-ENG</td>\n",
       "      <td>f</td>\n",
       "      <td>f</td>\n",
       "      <td>Unknown</td>\n",
       "      <td>2020-09-04 11:16:00</td>\n",
       "      <td>2020-09-01 00:00:00</td>\n",
       "      <td>2 days 20:30:00</td>\n",
       "      <td>United Kingdom</td>\n",
       "      <td>GB</td>\n",
       "      <td>GBR</td>\n",
       "      <td>826</td>\n",
       "      <td>54.0</td>\n",
       "      <td>-2.0</td>\n",
       "    </tr>\n",
       "    <tr>\n",
       "      <th>2</th>\n",
       "      <td>2020-09-01</td>\n",
       "      <td>2020-09-01 20:30:00</td>\n",
       "      <td>GBR</td>\n",
       "      <td>LE144NG</td>\n",
       "      <td>ups</td>\n",
       "      <td>GB-ENG</td>\n",
       "      <td>f</td>\n",
       "      <td>f</td>\n",
       "      <td>Doorstep</td>\n",
       "      <td>2020-09-03 10:00:00</td>\n",
       "      <td>2020-09-01 07:00:00</td>\n",
       "      <td>1 days 13:30:00</td>\n",
       "      <td>United Kingdom</td>\n",
       "      <td>GB</td>\n",
       "      <td>GBR</td>\n",
       "      <td>826</td>\n",
       "      <td>54.0</td>\n",
       "      <td>-2.0</td>\n",
       "    </tr>\n",
       "    <tr>\n",
       "      <th>3</th>\n",
       "      <td>2020-09-01</td>\n",
       "      <td>2020-09-01 14:41:00</td>\n",
       "      <td>GBR</td>\n",
       "      <td>LA12NH</td>\n",
       "      <td>dpd-de</td>\n",
       "      <td>GB-ENG</td>\n",
       "      <td>f</td>\n",
       "      <td>f</td>\n",
       "      <td>Unknown</td>\n",
       "      <td>2020-09-03 13:51:00</td>\n",
       "      <td>2020-09-01 00:00:00</td>\n",
       "      <td>1 days 23:10:00</td>\n",
       "      <td>United Kingdom</td>\n",
       "      <td>GB</td>\n",
       "      <td>GBR</td>\n",
       "      <td>826</td>\n",
       "      <td>54.0</td>\n",
       "      <td>-2.0</td>\n",
       "    </tr>\n",
       "    <tr>\n",
       "      <th>4</th>\n",
       "      <td>2020-09-01</td>\n",
       "      <td>2020-09-01 14:41:00</td>\n",
       "      <td>GBR</td>\n",
       "      <td>LA12NH</td>\n",
       "      <td>dpd-de</td>\n",
       "      <td>GB-ENG</td>\n",
       "      <td>f</td>\n",
       "      <td>f</td>\n",
       "      <td>Unknown</td>\n",
       "      <td>2020-09-03 13:51:00</td>\n",
       "      <td>2020-09-01 00:00:00</td>\n",
       "      <td>1 days 23:10:00</td>\n",
       "      <td>United Kingdom</td>\n",
       "      <td>GB</td>\n",
       "      <td>GBR</td>\n",
       "      <td>826</td>\n",
       "      <td>54.0</td>\n",
       "      <td>-2.0</td>\n",
       "    </tr>\n",
       "  </tbody>\n",
       "</table>\n",
       "</div>"
      ],
      "text/plain": [
       "  created_date     in_transit_date country zip_code courier delivery_region  \\\n",
       "0   2020-09-01 2020-09-02 13:19:00     GBR   RG64HX  dpd-de          GB-ENG   \n",
       "1   2020-09-01 2020-09-01 14:46:00     GBR  RG287FD  dpd-de          GB-ENG   \n",
       "2   2020-09-01 2020-09-01 20:30:00     GBR  LE144NG     ups          GB-ENG   \n",
       "3   2020-09-01 2020-09-01 14:41:00     GBR   LA12NH  dpd-de          GB-ENG   \n",
       "4   2020-09-01 2020-09-01 14:41:00     GBR   LA12NH  dpd-de          GB-ENG   \n",
       "\n",
       "  delivery_cancelled return_tracking delivery_location       delivery_date  \\\n",
       "0                  f               f       HomeDeposit 2020-09-04 07:18:00   \n",
       "1                  f               f           Unknown 2020-09-04 11:16:00   \n",
       "2                  f               f          Doorstep 2020-09-03 10:00:00   \n",
       "3                  f               f           Unknown 2020-09-03 13:51:00   \n",
       "4                  f               f           Unknown 2020-09-03 13:51:00   \n",
       "\n",
       "          pickup_date      time_taken         Country Alpha-2 code  \\\n",
       "0 2020-09-02 00:00:00 1 days 17:59:00  United Kingdom           GB   \n",
       "1 2020-09-01 00:00:00 2 days 20:30:00  United Kingdom           GB   \n",
       "2 2020-09-01 07:00:00 1 days 13:30:00  United Kingdom           GB   \n",
       "3 2020-09-01 00:00:00 1 days 23:10:00  United Kingdom           GB   \n",
       "4 2020-09-01 00:00:00 1 days 23:10:00  United Kingdom           GB   \n",
       "\n",
       "  Alpha-3 code  Numeric code  Latitude (average)  Longitude (average)  \n",
       "0          GBR           826                54.0                 -2.0  \n",
       "1          GBR           826                54.0                 -2.0  \n",
       "2          GBR           826                54.0                 -2.0  \n",
       "3          GBR           826                54.0                 -2.0  \n",
       "4          GBR           826                54.0                 -2.0  "
      ]
     },
     "execution_count": 24,
     "metadata": {},
     "output_type": "execute_result"
    }
   ],
   "source": [
    "test.head()"
   ]
  },
  {
   "cell_type": "code",
   "execution_count": 25,
   "metadata": {},
   "outputs": [],
   "source": [
    "test.drop(['Alpha-2 code', 'Alpha-3 code'], axis=1, inplace=True)\n",
    "test.rename(columns={\"country\": \"Alpha-3-code\"}, inplace=True)"
   ]
  },
  {
   "cell_type": "code",
   "execution_count": 26,
   "metadata": {},
   "outputs": [],
   "source": [
    "#format the dates for when they are exported\n",
    "test.to_csv('deliveries.csv', encoding='utf-8', date_format='%Y-%m-%d %H:%M:%S', index=False)"
   ]
  },
  {
   "cell_type": "markdown",
   "metadata": {},
   "source": [
    "### Creation of Model - converting dates into floats so they can then be predicted"
   ]
  },
  {
   "cell_type": "code",
   "execution_count": 27,
   "metadata": {},
   "outputs": [],
   "source": [
    "import sklearn\n",
    "from sklearn.ensemble import GradientBoostingRegressor\n",
    "from sklearn.linear_model import LinearRegression\n",
    "from sklearn.model_selection import train_test_split\n",
    "from sklearn.preprocessing import PolynomialFeatures\n",
    "from sklearn import preprocessing\n",
    "from sklearn.preprocessing import LabelEncoder"
   ]
  },
  {
   "cell_type": "code",
   "execution_count": 28,
   "metadata": {},
   "outputs": [
    {
     "data": {
      "text/html": [
       "<div>\n",
       "<style scoped>\n",
       "    .dataframe tbody tr th:only-of-type {\n",
       "        vertical-align: middle;\n",
       "    }\n",
       "\n",
       "    .dataframe tbody tr th {\n",
       "        vertical-align: top;\n",
       "    }\n",
       "\n",
       "    .dataframe thead th {\n",
       "        text-align: right;\n",
       "    }\n",
       "</style>\n",
       "<table border=\"1\" class=\"dataframe\">\n",
       "  <thead>\n",
       "    <tr style=\"text-align: right;\">\n",
       "      <th></th>\n",
       "      <th>created_date</th>\n",
       "      <th>in_transit_date</th>\n",
       "      <th>country</th>\n",
       "      <th>zip_code</th>\n",
       "      <th>courier</th>\n",
       "      <th>delivery_region</th>\n",
       "      <th>delivery_cancelled</th>\n",
       "      <th>return_tracking</th>\n",
       "      <th>delivery_location</th>\n",
       "      <th>delivery_date</th>\n",
       "      <th>pickup_date</th>\n",
       "      <th>Epoch_transit_date</th>\n",
       "      <th>Epoch_created_date</th>\n",
       "      <th>Epoch_delivery_date</th>\n",
       "      <th>Epoch_pickup_date</th>\n",
       "      <th>time_taken</th>\n",
       "    </tr>\n",
       "  </thead>\n",
       "  <tbody>\n",
       "    <tr>\n",
       "      <th>0</th>\n",
       "      <td>2020-09-01</td>\n",
       "      <td>2020-09-02 13:19:00</td>\n",
       "      <td>GBR</td>\n",
       "      <td>RG64HX</td>\n",
       "      <td>dpd-de</td>\n",
       "      <td>GB-ENG</td>\n",
       "      <td>f</td>\n",
       "      <td>f</td>\n",
       "      <td>HomeDeposit</td>\n",
       "      <td>2020-09-04 07:18:00</td>\n",
       "      <td>2020-09-02</td>\n",
       "      <td>1599052740000</td>\n",
       "      <td>1598918400000</td>\n",
       "      <td>1599203880000</td>\n",
       "      <td>1599004800000</td>\n",
       "      <td>1 days 17:59:00</td>\n",
       "    </tr>\n",
       "    <tr>\n",
       "      <th>1</th>\n",
       "      <td>2020-09-01</td>\n",
       "      <td>2020-09-01 14:54:00</td>\n",
       "      <td>DEU</td>\n",
       "      <td>70563</td>\n",
       "      <td>dpd-de</td>\n",
       "      <td>DE-BW</td>\n",
       "      <td>f</td>\n",
       "      <td>f</td>\n",
       "      <td>Unknown</td>\n",
       "      <td>2020-09-02 09:15:00</td>\n",
       "      <td>2020-09-01</td>\n",
       "      <td>1598972040000</td>\n",
       "      <td>1598918400000</td>\n",
       "      <td>1599038100000</td>\n",
       "      <td>1598918400000</td>\n",
       "      <td>0 days 18:21:00</td>\n",
       "    </tr>\n",
       "    <tr>\n",
       "      <th>2</th>\n",
       "      <td>2020-09-01</td>\n",
       "      <td>2020-09-01 14:46:00</td>\n",
       "      <td>GBR</td>\n",
       "      <td>RG287FD</td>\n",
       "      <td>dpd-de</td>\n",
       "      <td>GB-ENG</td>\n",
       "      <td>f</td>\n",
       "      <td>f</td>\n",
       "      <td>Unknown</td>\n",
       "      <td>2020-09-04 11:16:00</td>\n",
       "      <td>2020-09-01</td>\n",
       "      <td>1598971560000</td>\n",
       "      <td>1598918400000</td>\n",
       "      <td>1599218160000</td>\n",
       "      <td>1598918400000</td>\n",
       "      <td>2 days 20:30:00</td>\n",
       "    </tr>\n",
       "    <tr>\n",
       "      <th>3</th>\n",
       "      <td>2020-09-01</td>\n",
       "      <td>2020-09-01 14:53:00</td>\n",
       "      <td>ITA</td>\n",
       "      <td>46100</td>\n",
       "      <td>dpd-de</td>\n",
       "      <td>IT-25</td>\n",
       "      <td>f</td>\n",
       "      <td>f</td>\n",
       "      <td>Unknown</td>\n",
       "      <td>2020-09-04 13:09:00</td>\n",
       "      <td>2020-09-01</td>\n",
       "      <td>1598971980000</td>\n",
       "      <td>1598918400000</td>\n",
       "      <td>1599224940000</td>\n",
       "      <td>1598918400000</td>\n",
       "      <td>2 days 22:16:00</td>\n",
       "    </tr>\n",
       "    <tr>\n",
       "      <th>4</th>\n",
       "      <td>2020-09-01</td>\n",
       "      <td>2020-09-02 13:02:00</td>\n",
       "      <td>ESP</td>\n",
       "      <td>07817</td>\n",
       "      <td>dpd-de</td>\n",
       "      <td>ES-IB</td>\n",
       "      <td>f</td>\n",
       "      <td>f</td>\n",
       "      <td>Unknown</td>\n",
       "      <td>2020-09-08 17:10:00</td>\n",
       "      <td>2020-09-02</td>\n",
       "      <td>1599051720000</td>\n",
       "      <td>1598918400000</td>\n",
       "      <td>1599585000000</td>\n",
       "      <td>1599004800000</td>\n",
       "      <td>6 days 04:08:00</td>\n",
       "    </tr>\n",
       "  </tbody>\n",
       "</table>\n",
       "</div>"
      ],
      "text/plain": [
       "  created_date     in_transit_date country zip_code courier delivery_region  \\\n",
       "0   2020-09-01 2020-09-02 13:19:00     GBR   RG64HX  dpd-de          GB-ENG   \n",
       "1   2020-09-01 2020-09-01 14:54:00     DEU    70563  dpd-de           DE-BW   \n",
       "2   2020-09-01 2020-09-01 14:46:00     GBR  RG287FD  dpd-de          GB-ENG   \n",
       "3   2020-09-01 2020-09-01 14:53:00     ITA    46100  dpd-de           IT-25   \n",
       "4   2020-09-01 2020-09-02 13:02:00     ESP    07817  dpd-de           ES-IB   \n",
       "\n",
       "  delivery_cancelled return_tracking delivery_location       delivery_date  \\\n",
       "0                  f               f       HomeDeposit 2020-09-04 07:18:00   \n",
       "1                  f               f           Unknown 2020-09-02 09:15:00   \n",
       "2                  f               f           Unknown 2020-09-04 11:16:00   \n",
       "3                  f               f           Unknown 2020-09-04 13:09:00   \n",
       "4                  f               f           Unknown 2020-09-08 17:10:00   \n",
       "\n",
       "  pickup_date  Epoch_transit_date  Epoch_created_date  Epoch_delivery_date  \\\n",
       "0  2020-09-02       1599052740000       1598918400000        1599203880000   \n",
       "1  2020-09-01       1598972040000       1598918400000        1599038100000   \n",
       "2  2020-09-01       1598971560000       1598918400000        1599218160000   \n",
       "3  2020-09-01       1598971980000       1598918400000        1599224940000   \n",
       "4  2020-09-02       1599051720000       1598918400000        1599585000000   \n",
       "\n",
       "   Epoch_pickup_date      time_taken  \n",
       "0      1599004800000 1 days 17:59:00  \n",
       "1      1598918400000 0 days 18:21:00  \n",
       "2      1598918400000 2 days 20:30:00  \n",
       "3      1598918400000 2 days 22:16:00  \n",
       "4      1599004800000 6 days 04:08:00  "
      ]
     },
     "execution_count": 28,
     "metadata": {},
     "output_type": "execute_result"
    }
   ],
   "source": [
    "data.head()"
   ]
  },
  {
   "cell_type": "code",
   "execution_count": 29,
   "metadata": {},
   "outputs": [],
   "source": [
    "data = sklearn.utils.shuffle(data)\n",
    "\n",
    "X = data.loc[:,['delivery_region', 'courier', 'zip_code','return_tracking','delivery_location','Epoch_transit_date','Epoch_pickup_date']]\n",
    "Y = data.Epoch_delivery_date"
   ]
  },
  {
   "cell_type": "code",
   "execution_count": 30,
   "metadata": {},
   "outputs": [
    {
     "data": {
      "text/html": [
       "<div>\n",
       "<style scoped>\n",
       "    .dataframe tbody tr th:only-of-type {\n",
       "        vertical-align: middle;\n",
       "    }\n",
       "\n",
       "    .dataframe tbody tr th {\n",
       "        vertical-align: top;\n",
       "    }\n",
       "\n",
       "    .dataframe thead th {\n",
       "        text-align: right;\n",
       "    }\n",
       "</style>\n",
       "<table border=\"1\" class=\"dataframe\">\n",
       "  <thead>\n",
       "    <tr style=\"text-align: right;\">\n",
       "      <th></th>\n",
       "      <th>delivery_region</th>\n",
       "      <th>courier</th>\n",
       "      <th>zip_code</th>\n",
       "      <th>return_tracking</th>\n",
       "      <th>delivery_location</th>\n",
       "      <th>Epoch_transit_date</th>\n",
       "      <th>Epoch_pickup_date</th>\n",
       "    </tr>\n",
       "  </thead>\n",
       "  <tbody>\n",
       "    <tr>\n",
       "      <th>146</th>\n",
       "      <td>GB-SCT</td>\n",
       "      <td>dpd-de</td>\n",
       "      <td>DD53QP</td>\n",
       "      <td>f</td>\n",
       "      <td>Unknown</td>\n",
       "      <td>1598973420000</td>\n",
       "      <td>1598918400000</td>\n",
       "    </tr>\n",
       "    <tr>\n",
       "      <th>4208</th>\n",
       "      <td>IE</td>\n",
       "      <td>ups</td>\n",
       "      <td>R45PK00</td>\n",
       "      <td>f</td>\n",
       "      <td>Doorstep</td>\n",
       "      <td>1599250800000</td>\n",
       "      <td>1599138000000</td>\n",
       "    </tr>\n",
       "    <tr>\n",
       "      <th>3053</th>\n",
       "      <td>DE-BW</td>\n",
       "      <td>dhl-germany</td>\n",
       "      <td>74626</td>\n",
       "      <td>f</td>\n",
       "      <td>Unknown</td>\n",
       "      <td>1598981220000</td>\n",
       "      <td>1598950800000</td>\n",
       "    </tr>\n",
       "    <tr>\n",
       "      <th>9356</th>\n",
       "      <td>IE</td>\n",
       "      <td>ups</td>\n",
       "      <td>N41RW14</td>\n",
       "      <td>f</td>\n",
       "      <td>Doorstep</td>\n",
       "      <td>1599250020000</td>\n",
       "      <td>1599138000000</td>\n",
       "    </tr>\n",
       "    <tr>\n",
       "      <th>2306</th>\n",
       "      <td>DE-NI</td>\n",
       "      <td>dpd-de</td>\n",
       "      <td>31542</td>\n",
       "      <td>f</td>\n",
       "      <td>Unknown</td>\n",
       "      <td>1599140460000</td>\n",
       "      <td>1599091200000</td>\n",
       "    </tr>\n",
       "  </tbody>\n",
       "</table>\n",
       "</div>"
      ],
      "text/plain": [
       "     delivery_region      courier zip_code return_tracking delivery_location  \\\n",
       "146           GB-SCT       dpd-de   DD53QP               f           Unknown   \n",
       "4208              IE          ups  R45PK00               f          Doorstep   \n",
       "3053           DE-BW  dhl-germany    74626               f           Unknown   \n",
       "9356              IE          ups  N41RW14               f          Doorstep   \n",
       "2306           DE-NI       dpd-de    31542               f           Unknown   \n",
       "\n",
       "      Epoch_transit_date  Epoch_pickup_date  \n",
       "146        1598973420000      1598918400000  \n",
       "4208       1599250800000      1599138000000  \n",
       "3053       1598981220000      1598950800000  \n",
       "9356       1599250020000      1599138000000  \n",
       "2306       1599140460000      1599091200000  "
      ]
     },
     "execution_count": 30,
     "metadata": {},
     "output_type": "execute_result"
    }
   ],
   "source": [
    "X.head()"
   ]
  },
  {
   "cell_type": "code",
   "execution_count": 31,
   "metadata": {},
   "outputs": [],
   "source": [
    "enc = LabelEncoder()\n",
    "X.loc[:,['delivery_region', 'courier', 'zip_code','return_tracking','delivery_location']]= \\\n",
    "X.loc[:,['delivery_region', 'courier', 'zip_code','return_tracking','delivery_location']].apply(enc.fit_transform)\n"
   ]
  },
  {
   "cell_type": "code",
   "execution_count": 32,
   "metadata": {},
   "outputs": [
    {
     "data": {
      "text/html": [
       "<div>\n",
       "<style scoped>\n",
       "    .dataframe tbody tr th:only-of-type {\n",
       "        vertical-align: middle;\n",
       "    }\n",
       "\n",
       "    .dataframe tbody tr th {\n",
       "        vertical-align: top;\n",
       "    }\n",
       "\n",
       "    .dataframe thead th {\n",
       "        text-align: right;\n",
       "    }\n",
       "</style>\n",
       "<table border=\"1\" class=\"dataframe\">\n",
       "  <thead>\n",
       "    <tr style=\"text-align: right;\">\n",
       "      <th></th>\n",
       "      <th>delivery_region</th>\n",
       "      <th>courier</th>\n",
       "      <th>zip_code</th>\n",
       "      <th>return_tracking</th>\n",
       "      <th>delivery_location</th>\n",
       "      <th>Epoch_transit_date</th>\n",
       "      <th>Epoch_pickup_date</th>\n",
       "    </tr>\n",
       "  </thead>\n",
       "  <tbody>\n",
       "    <tr>\n",
       "      <th>146</th>\n",
       "      <td>106</td>\n",
       "      <td>1</td>\n",
       "      <td>5864</td>\n",
       "      <td>0</td>\n",
       "      <td>5</td>\n",
       "      <td>1598973420000</td>\n",
       "      <td>1598918400000</td>\n",
       "    </tr>\n",
       "    <tr>\n",
       "      <th>4208</th>\n",
       "      <td>110</td>\n",
       "      <td>2</td>\n",
       "      <td>6453</td>\n",
       "      <td>0</td>\n",
       "      <td>0</td>\n",
       "      <td>1599250800000</td>\n",
       "      <td>1599138000000</td>\n",
       "    </tr>\n",
       "    <tr>\n",
       "      <th>3053</th>\n",
       "      <td>44</td>\n",
       "      <td>0</td>\n",
       "      <td>4192</td>\n",
       "      <td>0</td>\n",
       "      <td>5</td>\n",
       "      <td>1598981220000</td>\n",
       "      <td>1598950800000</td>\n",
       "    </tr>\n",
       "    <tr>\n",
       "      <th>9356</th>\n",
       "      <td>110</td>\n",
       "      <td>2</td>\n",
       "      <td>6270</td>\n",
       "      <td>0</td>\n",
       "      <td>0</td>\n",
       "      <td>1599250020000</td>\n",
       "      <td>1599138000000</td>\n",
       "    </tr>\n",
       "    <tr>\n",
       "      <th>2306</th>\n",
       "      <td>50</td>\n",
       "      <td>1</td>\n",
       "      <td>1773</td>\n",
       "      <td>0</td>\n",
       "      <td>5</td>\n",
       "      <td>1599140460000</td>\n",
       "      <td>1599091200000</td>\n",
       "    </tr>\n",
       "  </tbody>\n",
       "</table>\n",
       "</div>"
      ],
      "text/plain": [
       "      delivery_region  courier  zip_code  return_tracking  delivery_location  \\\n",
       "146               106        1      5864                0                  5   \n",
       "4208              110        2      6453                0                  0   \n",
       "3053               44        0      4192                0                  5   \n",
       "9356              110        2      6270                0                  0   \n",
       "2306               50        1      1773                0                  5   \n",
       "\n",
       "      Epoch_transit_date  Epoch_pickup_date  \n",
       "146        1598973420000      1598918400000  \n",
       "4208       1599250800000      1599138000000  \n",
       "3053       1598981220000      1598950800000  \n",
       "9356       1599250020000      1599138000000  \n",
       "2306       1599140460000      1599091200000  "
      ]
     },
     "execution_count": 32,
     "metadata": {},
     "output_type": "execute_result"
    }
   ],
   "source": [
    "X.head()"
   ]
  },
  {
   "cell_type": "code",
   "execution_count": null,
   "metadata": {},
   "outputs": [],
   "source": []
  },
  {
   "cell_type": "code",
   "execution_count": 33,
   "metadata": {},
   "outputs": [],
   "source": [
    "X_train, X_test, Y_train, Y_test =train_test_split(X, Y, test_size=0.3, random_state = 42)"
   ]
  },
  {
   "cell_type": "code",
   "execution_count": 34,
   "metadata": {},
   "outputs": [],
   "source": [
    "regr = GradientBoostingRegressor(learning_rate =0.1, random_state=0, n_estimators=100, criterion =\"squared_error\", max_depth=12 )"
   ]
  },
  {
   "cell_type": "code",
   "execution_count": 35,
   "metadata": {},
   "outputs": [
    {
     "data": {
      "text/plain": [
       "GradientBoostingRegressor(criterion='squared_error', max_depth=12,\n",
       "                          random_state=0)"
      ]
     },
     "execution_count": 35,
     "metadata": {},
     "output_type": "execute_result"
    }
   ],
   "source": [
    "regr.fit(X_train, Y_train)"
   ]
  },
  {
   "cell_type": "code",
   "execution_count": 36,
   "metadata": {},
   "outputs": [],
   "source": [
    "pred = regr.predict(X_test)"
   ]
  },
  {
   "cell_type": "code",
   "execution_count": 37,
   "metadata": {},
   "outputs": [
    {
     "data": {
      "text/plain": [
       "array([1.59908266e+12, 1.59946110e+12, 1.59913149e+12, ...,\n",
       "       1.59922812e+12, 1.59965167e+12, 1.59929246e+12])"
      ]
     },
     "execution_count": 37,
     "metadata": {},
     "output_type": "execute_result"
    }
   ],
   "source": [
    "pred"
   ]
  },
  {
   "cell_type": "code",
   "execution_count": 38,
   "metadata": {},
   "outputs": [
    {
     "data": {
      "text/plain": [
       "0.7947067231831498"
      ]
     },
     "execution_count": 38,
     "metadata": {},
     "output_type": "execute_result"
    }
   ],
   "source": [
    "regr.score(X_test, Y_test)"
   ]
  },
  {
   "cell_type": "code",
   "execution_count": 39,
   "metadata": {},
   "outputs": [
    {
     "data": {
      "text/plain": [
       "0.9970581986165207"
      ]
     },
     "execution_count": 39,
     "metadata": {},
     "output_type": "execute_result"
    }
   ],
   "source": [
    "regr.score(X_train, Y_train)"
   ]
  },
  {
   "cell_type": "code",
   "execution_count": 40,
   "metadata": {},
   "outputs": [
    {
     "data": {
      "text/plain": [
       "Text(0.5, 1.0, 'Feature importance for Gradient Boosting model')"
      ]
     },
     "execution_count": 40,
     "metadata": {},
     "output_type": "execute_result"
    },
    {
     "data": {
      "image/png": "[encoded data removed]",
      "text/plain": [
       "<Figure size 432x288 with 1 Axes>"
      ]
     },
     "metadata": {
      "needs_background": "light"
     },
     "output_type": "display_data"
    }
   ],
   "source": [
    "feat_importances = pd.Series(regr.feature_importances_, index=X.columns)\n",
    "feat_importances.nlargest(8).plot(kind='barh')\n",
    "plt.title(\"Feature importance for Gradient Boosting model\")"
   ]
  },
  {
   "cell_type": "code",
   "execution_count": 42,
   "metadata": {},
   "outputs": [
    {
     "data": {
      "text/plain": [
       "RandomForestRegressor(max_depth=12, random_state=100)"
      ]
     },
     "execution_count": 42,
     "metadata": {},
     "output_type": "execute_result"
    }
   ],
   "source": [
    "from sklearn.ensemble import RandomForestRegressor\n",
    "Forest = RandomForestRegressor(n_estimators=100, random_state=100, criterion =\"squared_error\", max_depth=12)\n",
    "Forest.fit(X_train, Y_train)"
   ]
  },
  {
   "cell_type": "code",
   "execution_count": 43,
   "metadata": {},
   "outputs": [
    {
     "name": "stdout",
     "output_type": "stream",
     "text": [
      "<class 'pandas.core.frame.DataFrame'>\n",
      "Int64Index: 3000 entries, 433 to 3672\n",
      "Data columns (total 7 columns):\n",
      " #   Column              Non-Null Count  Dtype\n",
      "---  ------              --------------  -----\n",
      " 0   delivery_region     3000 non-null   int32\n",
      " 1   courier             3000 non-null   int32\n",
      " 2   zip_code            3000 non-null   int32\n",
      " 3   return_tracking     3000 non-null   int32\n",
      " 4   delivery_location   3000 non-null   int32\n",
      " 5   Epoch_transit_date  3000 non-null   int64\n",
      " 6   Epoch_pickup_date   3000 non-null   int64\n",
      "dtypes: int32(5), int64(2)\n",
      "memory usage: 128.9 KB\n"
     ]
    }
   ],
   "source": [
    "X_test.info()"
   ]
  },
  {
   "cell_type": "code",
   "execution_count": 44,
   "metadata": {},
   "outputs": [],
   "source": [
    "predForest = Forest.predict(X_test)"
   ]
  },
  {
   "cell_type": "code",
   "execution_count": 45,
   "metadata": {},
   "outputs": [
    {
     "name": "stdout",
     "output_type": "stream",
     "text": [
      "[1.59906566e+12 1.59944177e+12 1.59915451e+12 ... 1.59923559e+12\n",
      " 1.59966246e+12 1.59930025e+12]\n"
     ]
    }
   ],
   "source": [
    "print(predForest)"
   ]
  },
  {
   "cell_type": "code",
   "execution_count": 46,
   "metadata": {},
   "outputs": [
    {
     "data": {
      "text/plain": [
       "0.8387362748587766"
      ]
     },
     "execution_count": 46,
     "metadata": {},
     "output_type": "execute_result"
    }
   ],
   "source": [
    "from sklearn.metrics import r2_score\n",
    "r2_score(Y_test,predForest)"
   ]
  },
  {
   "cell_type": "code",
   "execution_count": 47,
   "metadata": {},
   "outputs": [
    {
     "data": {
      "text/plain": [
       "Text(0.5, 1.0, 'Feature importance for Random Forest')"
      ]
     },
     "execution_count": 47,
     "metadata": {},
     "output_type": "execute_result"
    },
    {
     "data": {
      "image/png": "[encoded data removed]",
      "text/plain": [
       "<Figure size 432x288 with 1 Axes>"
      ]
     },
     "metadata": {
      "needs_background": "light"
     },
     "output_type": "display_data"
    }
   ],
   "source": [
    "feat_importances = pd.Series(Forest.feature_importances_, index=X.columns)\n",
    "feat_importances.nlargest(8).plot(kind='barh')\n",
    "plt.title(\"Feature importance for Random Forest\")"
   ]
  },
  {
   "cell_type": "code",
   "execution_count": 48,
   "metadata": {},
   "outputs": [],
   "source": [
    "import pickle\n",
    "filename = 'GradientBoosting.pkl'\n",
    "pickle.dump(regr, open(filename, 'wb'))\n",
    "\n",
    "filename = 'RandomForest.pkl'\n",
    "pickle.dump(Forest, open(filename, 'wb'))"
   ]
  },
  {
   "cell_type": "code",
   "execution_count": 2,
   "metadata": {},
   "outputs": [],
   "source": [
    "import pickle"
   ]
  },
  {
   "cell_type": "code",
   "execution_count": 3,
   "metadata": {},
   "outputs": [],
   "source": [
    "model=pickle.load(open('GradientBoosting.pkl','rb'))"
   ]
  },
  {
   "cell_type": "code",
   "execution_count": 4,
   "metadata": {},
   "outputs": [
    {
     "name": "stderr",
     "output_type": "stream",
     "text": [
      "D:\\anaconda3\\lib\\site-packages\\sklearn\\base.py:446: UserWarning: X does not have valid feature names, but GradientBoostingRegressor was fitted with feature names\n",
      "  \"X does not have valid feature names, but\"\n"
     ]
    }
   ],
   "source": [
    "Result = model.predict([[44,0,4390,0,5,1598982420000,1598947200000]])"
   ]
  },
  {
   "cell_type": "code",
   "execution_count": 5,
   "metadata": {},
   "outputs": [
    {
     "data": {
      "text/plain": [
       "dtype('float64')"
      ]
     },
     "execution_count": 5,
     "metadata": {},
     "output_type": "execute_result"
    }
   ],
   "source": [
    "Result.dtype"
   ]
  },
  {
   "cell_type": "code",
   "execution_count": 12,
   "metadata": {},
   "outputs": [
    {
     "name": "stdout",
     "output_type": "stream",
     "text": [
      "1599073286.7364225\n"
     ]
    }
   ],
   "source": [
    "test = Result.item(0)\n",
    "test = test/1000\n",
    "print(test)"
   ]
  },
  {
   "cell_type": "code",
   "execution_count": 13,
   "metadata": {},
   "outputs": [],
   "source": [
    "import datetime\n",
    "datetime = datetime.datetime.fromtimestamp(test)"
   ]
  },
  {
   "cell_type": "code",
   "execution_count": 14,
   "metadata": {},
   "outputs": [
    {
     "name": "stdout",
     "output_type": "stream",
     "text": [
      "2020-09-02 20:01:26.736423\n"
     ]
    }
   ],
   "source": [
    "print(datetime)"
   ]
  },
  {
   "cell_type": "code",
   "execution_count": null,
   "metadata": {},
   "outputs": [],
   "source": []
  }
 ],
 "metadata": {
  "kernelspec": {
   "display_name": "Python 3",
   "language": "python",
   "name": "python3"
  },
  "language_info": {
   "codemirror_mode": {
    "name": "ipython",
    "version": 3
   },
   "file_extension": ".py",
   "mimetype": "text/x-python",
   "name": "python",
   "nbconvert_exporter": "python",
   "pygments_lexer": "ipython3",
   "version": "3.7.6"
  }
 },
 "nbformat": 4,
 "nbformat_minor": 4
}
